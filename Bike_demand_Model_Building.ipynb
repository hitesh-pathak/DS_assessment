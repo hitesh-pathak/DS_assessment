{
  "nbformat": 4,
  "nbformat_minor": 0,
  "metadata": {
    "colab": {
      "name": "Bike_demand_Model_Building.ipynb",
      "provenance": [],
      "collapsed_sections": [],
      "authorship_tag": "ABX9TyM35CFM1hRY1RfcIz875PwM",
      "include_colab_link": true
    },
    "kernelspec": {
      "name": "python3",
      "display_name": "Python 3"
    },
    "language_info": {
      "name": "python"
    },
    "gpuClass": "standard"
  },
  "cells": [
    {
      "cell_type": "markdown",
      "metadata": {
        "id": "view-in-github",
        "colab_type": "text"
      },
      "source": [
        "<a href=\"https://colab.research.google.com/github/hitesh-pathak/DS_assessment/blob/main/Bike_demand_Model_Building.ipynb\" target=\"_parent\"><img src=\"https://colab.research.google.com/assets/colab-badge.svg\" alt=\"Open In Colab\"/></a>"
      ]
    },
    {
      "cell_type": "code",
      "execution_count": 153,
      "metadata": {
        "id": "NMKU2UEiAF6J"
      },
      "outputs": [],
      "source": [
        "import pickle\n",
        "import pandas as pd\n",
        "from pandas.api.types import CategoricalDtype\n",
        "import numpy as np\n",
        "import seaborn as sns\n",
        "import matplotlib.pyplot as plt\n",
        "\n",
        "from sklearn.metrics import mean_squared_error, r2_score\n",
        "from sklearn.model_selection import train_test_split, GridSearchCV, RandomizedSearchCV\n",
        "from sklearn.feature_selection import RFECV\n",
        "from sklearn.preprocessing import MinMaxScaler\n",
        "from sklearn.pipeline import make_pipeline, Pipeline\n",
        "from sklearn.linear_model import LinearRegression\n",
        "from sklearn.ensemble import RandomForestRegressor\n",
        "\n",
        "import statsmodels.api as sm\n",
        "from statsmodels.stats.outliers_influence import variance_inflation_factor\n",
        "\n",
        "import warnings\n",
        "warnings.filterwarnings(\"ignore\", category=DeprecationWarning)"
      ]
    },
    {
      "cell_type": "code",
      "source": [
        "### import pre processed csv from github\n",
        "\n",
        "df = pd.read_csv('https://github.com/hitesh-pathak/DS_assessment/raw/main/pre_processed_data.csv')\n",
        "\n",
        "df_cols = df.columns.tolist()\n",
        "num_cols = df_cols[7:-3]\n",
        "\n",
        "## need to convert categorical data, as it's saved as object dtype in csv files.\n",
        "ordinal_col = ['year', 'month', 'weekday']\n",
        "nominal_col = ['holiday', 'workingday', 'season', 'weather']\n",
        "\n",
        "cat_cols = ordinal_col + nominal_col\n",
        "\n",
        "df.loc[:, nominal_col] = df[nominal_col].astype('category')\n",
        "\n",
        "## order the ordinal categories\n",
        "cat_year = CategoricalDtype([2018, 2019], ordered=True)\n",
        "cat_month = CategoricalDtype(['January', 'February', 'March', 'April', 'May',\n",
        "                          'June', 'July', 'August', 'September', 'October',\n",
        "                          'November', 'December'], ordered=True)\n",
        "\n",
        "cat_days = CategoricalDtype(['Monday', 'Tuesday', 'Wednesday', 'Thursday', 'Friday', 'Saturday', 'Sunday'],\n",
        "                            ordered = True)\n",
        "\n",
        "df['year'] = df['year'].astype(cat_year)\n",
        "df['month'] = df['month'].astype(cat_month)\n",
        "df['weekday'] = df['weekday'].astype(cat_days)\n",
        "\n",
        "## sort by categories\n",
        "df.sort_values(by=['year', 'month', 'weekday'])\n",
        "\n",
        "## remove casual and registered since they are dependent variables.\n",
        "df = df.drop(['casual', 'registered'], axis = 1)\n",
        "df.head(7)\n"
      ],
      "metadata": {
        "colab": {
          "base_uri": "https://localhost:8080/",
          "height": 269
        },
        "id": "awnZ12X7AQ6m",
        "outputId": "adc258c9-6b6d-4914-c2d8-76ef595c8f53"
      },
      "execution_count": 110,
      "outputs": [
        {
          "output_type": "execute_result",
          "data": {
            "text/plain": [
              "   year    month    weekday holiday workingday season weather       temp  \\\n",
              "0  2018  January     Monday       0          1     s1      w2  14.110847   \n",
              "1  2018  January    Tuesday       0          1     s1      w2  14.902598   \n",
              "2  2018  January  Wednesday       0          1     s1      w1   8.050924   \n",
              "3  2018  January   Thursday       0          1     s1      w1   8.200000   \n",
              "4  2018  January     Friday       0          1     s1      w1   9.305237   \n",
              "5  2018  January   Saturday       0          0     s1      w1   8.378268   \n",
              "6  2018  January     Sunday       0          0     s1      w2   8.057402   \n",
              "\n",
              "      atemp  humidity  windspeed  count  \n",
              "0  18.18125   80.5833  10.749882    985  \n",
              "1  17.68695   69.6087  16.652113    801  \n",
              "2   9.47025   43.7273  16.636703   1349  \n",
              "3  10.60610   59.0435  10.739832   1562  \n",
              "4  11.46350   43.6957  12.522300   1600  \n",
              "5  11.66045   51.8261   6.000868   1606  \n",
              "6  10.44195   49.8696  11.304642   1510  "
            ],
            "text/html": [
              "\n",
              "  <div id=\"df-33073ae3-b434-4253-89e7-db617071d248\">\n",
              "    <div class=\"colab-df-container\">\n",
              "      <div>\n",
              "<style scoped>\n",
              "    .dataframe tbody tr th:only-of-type {\n",
              "        vertical-align: middle;\n",
              "    }\n",
              "\n",
              "    .dataframe tbody tr th {\n",
              "        vertical-align: top;\n",
              "    }\n",
              "\n",
              "    .dataframe thead th {\n",
              "        text-align: right;\n",
              "    }\n",
              "</style>\n",
              "<table border=\"1\" class=\"dataframe\">\n",
              "  <thead>\n",
              "    <tr style=\"text-align: right;\">\n",
              "      <th></th>\n",
              "      <th>year</th>\n",
              "      <th>month</th>\n",
              "      <th>weekday</th>\n",
              "      <th>holiday</th>\n",
              "      <th>workingday</th>\n",
              "      <th>season</th>\n",
              "      <th>weather</th>\n",
              "      <th>temp</th>\n",
              "      <th>atemp</th>\n",
              "      <th>humidity</th>\n",
              "      <th>windspeed</th>\n",
              "      <th>count</th>\n",
              "    </tr>\n",
              "  </thead>\n",
              "  <tbody>\n",
              "    <tr>\n",
              "      <th>0</th>\n",
              "      <td>2018</td>\n",
              "      <td>January</td>\n",
              "      <td>Monday</td>\n",
              "      <td>0</td>\n",
              "      <td>1</td>\n",
              "      <td>s1</td>\n",
              "      <td>w2</td>\n",
              "      <td>14.110847</td>\n",
              "      <td>18.18125</td>\n",
              "      <td>80.5833</td>\n",
              "      <td>10.749882</td>\n",
              "      <td>985</td>\n",
              "    </tr>\n",
              "    <tr>\n",
              "      <th>1</th>\n",
              "      <td>2018</td>\n",
              "      <td>January</td>\n",
              "      <td>Tuesday</td>\n",
              "      <td>0</td>\n",
              "      <td>1</td>\n",
              "      <td>s1</td>\n",
              "      <td>w2</td>\n",
              "      <td>14.902598</td>\n",
              "      <td>17.68695</td>\n",
              "      <td>69.6087</td>\n",
              "      <td>16.652113</td>\n",
              "      <td>801</td>\n",
              "    </tr>\n",
              "    <tr>\n",
              "      <th>2</th>\n",
              "      <td>2018</td>\n",
              "      <td>January</td>\n",
              "      <td>Wednesday</td>\n",
              "      <td>0</td>\n",
              "      <td>1</td>\n",
              "      <td>s1</td>\n",
              "      <td>w1</td>\n",
              "      <td>8.050924</td>\n",
              "      <td>9.47025</td>\n",
              "      <td>43.7273</td>\n",
              "      <td>16.636703</td>\n",
              "      <td>1349</td>\n",
              "    </tr>\n",
              "    <tr>\n",
              "      <th>3</th>\n",
              "      <td>2018</td>\n",
              "      <td>January</td>\n",
              "      <td>Thursday</td>\n",
              "      <td>0</td>\n",
              "      <td>1</td>\n",
              "      <td>s1</td>\n",
              "      <td>w1</td>\n",
              "      <td>8.200000</td>\n",
              "      <td>10.60610</td>\n",
              "      <td>59.0435</td>\n",
              "      <td>10.739832</td>\n",
              "      <td>1562</td>\n",
              "    </tr>\n",
              "    <tr>\n",
              "      <th>4</th>\n",
              "      <td>2018</td>\n",
              "      <td>January</td>\n",
              "      <td>Friday</td>\n",
              "      <td>0</td>\n",
              "      <td>1</td>\n",
              "      <td>s1</td>\n",
              "      <td>w1</td>\n",
              "      <td>9.305237</td>\n",
              "      <td>11.46350</td>\n",
              "      <td>43.6957</td>\n",
              "      <td>12.522300</td>\n",
              "      <td>1600</td>\n",
              "    </tr>\n",
              "    <tr>\n",
              "      <th>5</th>\n",
              "      <td>2018</td>\n",
              "      <td>January</td>\n",
              "      <td>Saturday</td>\n",
              "      <td>0</td>\n",
              "      <td>0</td>\n",
              "      <td>s1</td>\n",
              "      <td>w1</td>\n",
              "      <td>8.378268</td>\n",
              "      <td>11.66045</td>\n",
              "      <td>51.8261</td>\n",
              "      <td>6.000868</td>\n",
              "      <td>1606</td>\n",
              "    </tr>\n",
              "    <tr>\n",
              "      <th>6</th>\n",
              "      <td>2018</td>\n",
              "      <td>January</td>\n",
              "      <td>Sunday</td>\n",
              "      <td>0</td>\n",
              "      <td>0</td>\n",
              "      <td>s1</td>\n",
              "      <td>w2</td>\n",
              "      <td>8.057402</td>\n",
              "      <td>10.44195</td>\n",
              "      <td>49.8696</td>\n",
              "      <td>11.304642</td>\n",
              "      <td>1510</td>\n",
              "    </tr>\n",
              "  </tbody>\n",
              "</table>\n",
              "</div>\n",
              "      <button class=\"colab-df-convert\" onclick=\"convertToInteractive('df-33073ae3-b434-4253-89e7-db617071d248')\"\n",
              "              title=\"Convert this dataframe to an interactive table.\"\n",
              "              style=\"display:none;\">\n",
              "        \n",
              "  <svg xmlns=\"http://www.w3.org/2000/svg\" height=\"24px\"viewBox=\"0 0 24 24\"\n",
              "       width=\"24px\">\n",
              "    <path d=\"M0 0h24v24H0V0z\" fill=\"none\"/>\n",
              "    <path d=\"M18.56 5.44l.94 2.06.94-2.06 2.06-.94-2.06-.94-.94-2.06-.94 2.06-2.06.94zm-11 1L8.5 8.5l.94-2.06 2.06-.94-2.06-.94L8.5 2.5l-.94 2.06-2.06.94zm10 10l.94 2.06.94-2.06 2.06-.94-2.06-.94-.94-2.06-.94 2.06-2.06.94z\"/><path d=\"M17.41 7.96l-1.37-1.37c-.4-.4-.92-.59-1.43-.59-.52 0-1.04.2-1.43.59L10.3 9.45l-7.72 7.72c-.78.78-.78 2.05 0 2.83L4 21.41c.39.39.9.59 1.41.59.51 0 1.02-.2 1.41-.59l7.78-7.78 2.81-2.81c.8-.78.8-2.07 0-2.86zM5.41 20L4 18.59l7.72-7.72 1.47 1.35L5.41 20z\"/>\n",
              "  </svg>\n",
              "      </button>\n",
              "      \n",
              "  <style>\n",
              "    .colab-df-container {\n",
              "      display:flex;\n",
              "      flex-wrap:wrap;\n",
              "      gap: 12px;\n",
              "    }\n",
              "\n",
              "    .colab-df-convert {\n",
              "      background-color: #E8F0FE;\n",
              "      border: none;\n",
              "      border-radius: 50%;\n",
              "      cursor: pointer;\n",
              "      display: none;\n",
              "      fill: #1967D2;\n",
              "      height: 32px;\n",
              "      padding: 0 0 0 0;\n",
              "      width: 32px;\n",
              "    }\n",
              "\n",
              "    .colab-df-convert:hover {\n",
              "      background-color: #E2EBFA;\n",
              "      box-shadow: 0px 1px 2px rgba(60, 64, 67, 0.3), 0px 1px 3px 1px rgba(60, 64, 67, 0.15);\n",
              "      fill: #174EA6;\n",
              "    }\n",
              "\n",
              "    [theme=dark] .colab-df-convert {\n",
              "      background-color: #3B4455;\n",
              "      fill: #D2E3FC;\n",
              "    }\n",
              "\n",
              "    [theme=dark] .colab-df-convert:hover {\n",
              "      background-color: #434B5C;\n",
              "      box-shadow: 0px 1px 3px 1px rgba(0, 0, 0, 0.15);\n",
              "      filter: drop-shadow(0px 1px 2px rgba(0, 0, 0, 0.3));\n",
              "      fill: #FFFFFF;\n",
              "    }\n",
              "  </style>\n",
              "\n",
              "      <script>\n",
              "        const buttonEl =\n",
              "          document.querySelector('#df-33073ae3-b434-4253-89e7-db617071d248 button.colab-df-convert');\n",
              "        buttonEl.style.display =\n",
              "          google.colab.kernel.accessAllowed ? 'block' : 'none';\n",
              "\n",
              "        async function convertToInteractive(key) {\n",
              "          const element = document.querySelector('#df-33073ae3-b434-4253-89e7-db617071d248');\n",
              "          const dataTable =\n",
              "            await google.colab.kernel.invokeFunction('convertToInteractive',\n",
              "                                                     [key], {});\n",
              "          if (!dataTable) return;\n",
              "\n",
              "          const docLinkHtml = 'Like what you see? Visit the ' +\n",
              "            '<a target=\"_blank\" href=https://colab.research.google.com/notebooks/data_table.ipynb>data table notebook</a>'\n",
              "            + ' to learn more about interactive tables.';\n",
              "          element.innerHTML = '';\n",
              "          dataTable['output_type'] = 'display_data';\n",
              "          await google.colab.output.renderOutput(dataTable, element);\n",
              "          const docLink = document.createElement('div');\n",
              "          docLink.innerHTML = docLinkHtml;\n",
              "          element.appendChild(docLink);\n",
              "        }\n",
              "      </script>\n",
              "    </div>\n",
              "  </div>\n",
              "  "
            ]
          },
          "metadata": {},
          "execution_count": 110
        }
      ]
    },
    {
      "cell_type": "markdown",
      "source": [
        "> I will fit a linear regressor, but before we must convert categorical columns to numerical."
      ],
      "metadata": {
        "id": "hrZEZfV0AmEx"
      }
    },
    {
      "cell_type": "markdown",
      "source": [
        "**One hot encoding** ->"
      ],
      "metadata": {
        "id": "HLmKVV2sBAMw"
      }
    },
    {
      "cell_type": "code",
      "source": [
        "cat_cols"
      ],
      "metadata": {
        "colab": {
          "base_uri": "https://localhost:8080/"
        },
        "id": "6APLqPkPi5nd",
        "outputId": "7b80443f-1ca4-490d-ec90-879b18c726f1"
      },
      "execution_count": 111,
      "outputs": [
        {
          "output_type": "execute_result",
          "data": {
            "text/plain": [
              "['year', 'month', 'weekday', 'holiday', 'workingday', 'season', 'weather']"
            ]
          },
          "metadata": {},
          "execution_count": 111
        }
      ]
    },
    {
      "cell_type": "code",
      "source": [
        "### get a sparse DF with one-hot encodings\n",
        "\n",
        "df_oh= pd.get_dummies(df[cat_cols], drop_first=True)\n",
        "print(df_oh.shape)\n",
        "df_oh.sample(10)"
      ],
      "metadata": {
        "colab": {
          "base_uri": "https://localhost:8080/",
          "height": 474
        },
        "id": "YRCrV5heI4Tu",
        "outputId": "e140beb8-998c-4052-b181-54186712aae5"
      },
      "execution_count": 112,
      "outputs": [
        {
          "output_type": "stream",
          "name": "stdout",
          "text": [
            "(730, 25)\n"
          ]
        },
        {
          "output_type": "execute_result",
          "data": {
            "text/plain": [
              "     year_2019  month_February  month_March  month_April  month_May  \\\n",
              "324          0               0            0            0          0   \n",
              "670          1               0            0            0          0   \n",
              "548          1               0            0            0          0   \n",
              "720          1               0            0            0          0   \n",
              "609          1               0            0            0          0   \n",
              "76           0               0            1            0          0   \n",
              "30           0               0            0            0          0   \n",
              "8            0               0            0            0          0   \n",
              "691          1               0            0            0          0   \n",
              "268          0               0            0            0          0   \n",
              "\n",
              "     month_June  month_July  month_August  month_September  month_October  \\\n",
              "324           0           0             0                0              0   \n",
              "670           0           0             0                0              0   \n",
              "548           0           1             0                0              0   \n",
              "720           0           0             0                0              0   \n",
              "609           0           0             0                1              0   \n",
              "76            0           0             0                0              0   \n",
              "30            0           0             0                0              0   \n",
              "8             0           0             0                0              0   \n",
              "691           0           0             0                0              0   \n",
              "268           0           0             0                1              0   \n",
              "\n",
              "     ...  weekday_Friday  weekday_Saturday  weekday_Sunday  holiday_1  \\\n",
              "324  ...               0                 0               0          0   \n",
              "670  ...               0                 1               0          0   \n",
              "548  ...               0                 0               0          0   \n",
              "720  ...               0                 0               1          0   \n",
              "609  ...               0                 0               0          0   \n",
              "76   ...               0                 0               1          0   \n",
              "30   ...               0                 0               0          0   \n",
              "8    ...               0                 0               0          0   \n",
              "691  ...               0                 1               0          0   \n",
              "268  ...               0                 0               0          0   \n",
              "\n",
              "     workingday_1  season_s2  season_s3  season_s4  weather_w2  weather_w3  \n",
              "324             1          0          0          1           0           1  \n",
              "670             0          0          0          1           0           0  \n",
              "548             1          0          1          0           0           0  \n",
              "720             0          0          0          0           0           0  \n",
              "609             1          0          1          0           1           0  \n",
              "76              0          0          0          0           0           0  \n",
              "30              1          0          0          0           1           0  \n",
              "8               1          0          0          0           0           0  \n",
              "691             0          0          0          1           0           0  \n",
              "268             1          0          0          1           1           0  \n",
              "\n",
              "[10 rows x 25 columns]"
            ],
            "text/html": [
              "\n",
              "  <div id=\"df-ebb4c662-839e-4902-9433-80ecb6e1ead5\">\n",
              "    <div class=\"colab-df-container\">\n",
              "      <div>\n",
              "<style scoped>\n",
              "    .dataframe tbody tr th:only-of-type {\n",
              "        vertical-align: middle;\n",
              "    }\n",
              "\n",
              "    .dataframe tbody tr th {\n",
              "        vertical-align: top;\n",
              "    }\n",
              "\n",
              "    .dataframe thead th {\n",
              "        text-align: right;\n",
              "    }\n",
              "</style>\n",
              "<table border=\"1\" class=\"dataframe\">\n",
              "  <thead>\n",
              "    <tr style=\"text-align: right;\">\n",
              "      <th></th>\n",
              "      <th>year_2019</th>\n",
              "      <th>month_February</th>\n",
              "      <th>month_March</th>\n",
              "      <th>month_April</th>\n",
              "      <th>month_May</th>\n",
              "      <th>month_June</th>\n",
              "      <th>month_July</th>\n",
              "      <th>month_August</th>\n",
              "      <th>month_September</th>\n",
              "      <th>month_October</th>\n",
              "      <th>...</th>\n",
              "      <th>weekday_Friday</th>\n",
              "      <th>weekday_Saturday</th>\n",
              "      <th>weekday_Sunday</th>\n",
              "      <th>holiday_1</th>\n",
              "      <th>workingday_1</th>\n",
              "      <th>season_s2</th>\n",
              "      <th>season_s3</th>\n",
              "      <th>season_s4</th>\n",
              "      <th>weather_w2</th>\n",
              "      <th>weather_w3</th>\n",
              "    </tr>\n",
              "  </thead>\n",
              "  <tbody>\n",
              "    <tr>\n",
              "      <th>324</th>\n",
              "      <td>0</td>\n",
              "      <td>0</td>\n",
              "      <td>0</td>\n",
              "      <td>0</td>\n",
              "      <td>0</td>\n",
              "      <td>0</td>\n",
              "      <td>0</td>\n",
              "      <td>0</td>\n",
              "      <td>0</td>\n",
              "      <td>0</td>\n",
              "      <td>...</td>\n",
              "      <td>0</td>\n",
              "      <td>0</td>\n",
              "      <td>0</td>\n",
              "      <td>0</td>\n",
              "      <td>1</td>\n",
              "      <td>0</td>\n",
              "      <td>0</td>\n",
              "      <td>1</td>\n",
              "      <td>0</td>\n",
              "      <td>1</td>\n",
              "    </tr>\n",
              "    <tr>\n",
              "      <th>670</th>\n",
              "      <td>1</td>\n",
              "      <td>0</td>\n",
              "      <td>0</td>\n",
              "      <td>0</td>\n",
              "      <td>0</td>\n",
              "      <td>0</td>\n",
              "      <td>0</td>\n",
              "      <td>0</td>\n",
              "      <td>0</td>\n",
              "      <td>0</td>\n",
              "      <td>...</td>\n",
              "      <td>0</td>\n",
              "      <td>1</td>\n",
              "      <td>0</td>\n",
              "      <td>0</td>\n",
              "      <td>0</td>\n",
              "      <td>0</td>\n",
              "      <td>0</td>\n",
              "      <td>1</td>\n",
              "      <td>0</td>\n",
              "      <td>0</td>\n",
              "    </tr>\n",
              "    <tr>\n",
              "      <th>548</th>\n",
              "      <td>1</td>\n",
              "      <td>0</td>\n",
              "      <td>0</td>\n",
              "      <td>0</td>\n",
              "      <td>0</td>\n",
              "      <td>0</td>\n",
              "      <td>1</td>\n",
              "      <td>0</td>\n",
              "      <td>0</td>\n",
              "      <td>0</td>\n",
              "      <td>...</td>\n",
              "      <td>0</td>\n",
              "      <td>0</td>\n",
              "      <td>0</td>\n",
              "      <td>0</td>\n",
              "      <td>1</td>\n",
              "      <td>0</td>\n",
              "      <td>1</td>\n",
              "      <td>0</td>\n",
              "      <td>0</td>\n",
              "      <td>0</td>\n",
              "    </tr>\n",
              "    <tr>\n",
              "      <th>720</th>\n",
              "      <td>1</td>\n",
              "      <td>0</td>\n",
              "      <td>0</td>\n",
              "      <td>0</td>\n",
              "      <td>0</td>\n",
              "      <td>0</td>\n",
              "      <td>0</td>\n",
              "      <td>0</td>\n",
              "      <td>0</td>\n",
              "      <td>0</td>\n",
              "      <td>...</td>\n",
              "      <td>0</td>\n",
              "      <td>0</td>\n",
              "      <td>1</td>\n",
              "      <td>0</td>\n",
              "      <td>0</td>\n",
              "      <td>0</td>\n",
              "      <td>0</td>\n",
              "      <td>0</td>\n",
              "      <td>0</td>\n",
              "      <td>0</td>\n",
              "    </tr>\n",
              "    <tr>\n",
              "      <th>609</th>\n",
              "      <td>1</td>\n",
              "      <td>0</td>\n",
              "      <td>0</td>\n",
              "      <td>0</td>\n",
              "      <td>0</td>\n",
              "      <td>0</td>\n",
              "      <td>0</td>\n",
              "      <td>0</td>\n",
              "      <td>1</td>\n",
              "      <td>0</td>\n",
              "      <td>...</td>\n",
              "      <td>0</td>\n",
              "      <td>0</td>\n",
              "      <td>0</td>\n",
              "      <td>0</td>\n",
              "      <td>1</td>\n",
              "      <td>0</td>\n",
              "      <td>1</td>\n",
              "      <td>0</td>\n",
              "      <td>1</td>\n",
              "      <td>0</td>\n",
              "    </tr>\n",
              "    <tr>\n",
              "      <th>76</th>\n",
              "      <td>0</td>\n",
              "      <td>0</td>\n",
              "      <td>1</td>\n",
              "      <td>0</td>\n",
              "      <td>0</td>\n",
              "      <td>0</td>\n",
              "      <td>0</td>\n",
              "      <td>0</td>\n",
              "      <td>0</td>\n",
              "      <td>0</td>\n",
              "      <td>...</td>\n",
              "      <td>0</td>\n",
              "      <td>0</td>\n",
              "      <td>1</td>\n",
              "      <td>0</td>\n",
              "      <td>0</td>\n",
              "      <td>0</td>\n",
              "      <td>0</td>\n",
              "      <td>0</td>\n",
              "      <td>0</td>\n",
              "      <td>0</td>\n",
              "    </tr>\n",
              "    <tr>\n",
              "      <th>30</th>\n",
              "      <td>0</td>\n",
              "      <td>0</td>\n",
              "      <td>0</td>\n",
              "      <td>0</td>\n",
              "      <td>0</td>\n",
              "      <td>0</td>\n",
              "      <td>0</td>\n",
              "      <td>0</td>\n",
              "      <td>0</td>\n",
              "      <td>0</td>\n",
              "      <td>...</td>\n",
              "      <td>0</td>\n",
              "      <td>0</td>\n",
              "      <td>0</td>\n",
              "      <td>0</td>\n",
              "      <td>1</td>\n",
              "      <td>0</td>\n",
              "      <td>0</td>\n",
              "      <td>0</td>\n",
              "      <td>1</td>\n",
              "      <td>0</td>\n",
              "    </tr>\n",
              "    <tr>\n",
              "      <th>8</th>\n",
              "      <td>0</td>\n",
              "      <td>0</td>\n",
              "      <td>0</td>\n",
              "      <td>0</td>\n",
              "      <td>0</td>\n",
              "      <td>0</td>\n",
              "      <td>0</td>\n",
              "      <td>0</td>\n",
              "      <td>0</td>\n",
              "      <td>0</td>\n",
              "      <td>...</td>\n",
              "      <td>0</td>\n",
              "      <td>0</td>\n",
              "      <td>0</td>\n",
              "      <td>0</td>\n",
              "      <td>1</td>\n",
              "      <td>0</td>\n",
              "      <td>0</td>\n",
              "      <td>0</td>\n",
              "      <td>0</td>\n",
              "      <td>0</td>\n",
              "    </tr>\n",
              "    <tr>\n",
              "      <th>691</th>\n",
              "      <td>1</td>\n",
              "      <td>0</td>\n",
              "      <td>0</td>\n",
              "      <td>0</td>\n",
              "      <td>0</td>\n",
              "      <td>0</td>\n",
              "      <td>0</td>\n",
              "      <td>0</td>\n",
              "      <td>0</td>\n",
              "      <td>0</td>\n",
              "      <td>...</td>\n",
              "      <td>0</td>\n",
              "      <td>1</td>\n",
              "      <td>0</td>\n",
              "      <td>0</td>\n",
              "      <td>0</td>\n",
              "      <td>0</td>\n",
              "      <td>0</td>\n",
              "      <td>1</td>\n",
              "      <td>0</td>\n",
              "      <td>0</td>\n",
              "    </tr>\n",
              "    <tr>\n",
              "      <th>268</th>\n",
              "      <td>0</td>\n",
              "      <td>0</td>\n",
              "      <td>0</td>\n",
              "      <td>0</td>\n",
              "      <td>0</td>\n",
              "      <td>0</td>\n",
              "      <td>0</td>\n",
              "      <td>0</td>\n",
              "      <td>1</td>\n",
              "      <td>0</td>\n",
              "      <td>...</td>\n",
              "      <td>0</td>\n",
              "      <td>0</td>\n",
              "      <td>0</td>\n",
              "      <td>0</td>\n",
              "      <td>1</td>\n",
              "      <td>0</td>\n",
              "      <td>0</td>\n",
              "      <td>1</td>\n",
              "      <td>1</td>\n",
              "      <td>0</td>\n",
              "    </tr>\n",
              "  </tbody>\n",
              "</table>\n",
              "<p>10 rows × 25 columns</p>\n",
              "</div>\n",
              "      <button class=\"colab-df-convert\" onclick=\"convertToInteractive('df-ebb4c662-839e-4902-9433-80ecb6e1ead5')\"\n",
              "              title=\"Convert this dataframe to an interactive table.\"\n",
              "              style=\"display:none;\">\n",
              "        \n",
              "  <svg xmlns=\"http://www.w3.org/2000/svg\" height=\"24px\"viewBox=\"0 0 24 24\"\n",
              "       width=\"24px\">\n",
              "    <path d=\"M0 0h24v24H0V0z\" fill=\"none\"/>\n",
              "    <path d=\"M18.56 5.44l.94 2.06.94-2.06 2.06-.94-2.06-.94-.94-2.06-.94 2.06-2.06.94zm-11 1L8.5 8.5l.94-2.06 2.06-.94-2.06-.94L8.5 2.5l-.94 2.06-2.06.94zm10 10l.94 2.06.94-2.06 2.06-.94-2.06-.94-.94-2.06-.94 2.06-2.06.94z\"/><path d=\"M17.41 7.96l-1.37-1.37c-.4-.4-.92-.59-1.43-.59-.52 0-1.04.2-1.43.59L10.3 9.45l-7.72 7.72c-.78.78-.78 2.05 0 2.83L4 21.41c.39.39.9.59 1.41.59.51 0 1.02-.2 1.41-.59l7.78-7.78 2.81-2.81c.8-.78.8-2.07 0-2.86zM5.41 20L4 18.59l7.72-7.72 1.47 1.35L5.41 20z\"/>\n",
              "  </svg>\n",
              "      </button>\n",
              "      \n",
              "  <style>\n",
              "    .colab-df-container {\n",
              "      display:flex;\n",
              "      flex-wrap:wrap;\n",
              "      gap: 12px;\n",
              "    }\n",
              "\n",
              "    .colab-df-convert {\n",
              "      background-color: #E8F0FE;\n",
              "      border: none;\n",
              "      border-radius: 50%;\n",
              "      cursor: pointer;\n",
              "      display: none;\n",
              "      fill: #1967D2;\n",
              "      height: 32px;\n",
              "      padding: 0 0 0 0;\n",
              "      width: 32px;\n",
              "    }\n",
              "\n",
              "    .colab-df-convert:hover {\n",
              "      background-color: #E2EBFA;\n",
              "      box-shadow: 0px 1px 2px rgba(60, 64, 67, 0.3), 0px 1px 3px 1px rgba(60, 64, 67, 0.15);\n",
              "      fill: #174EA6;\n",
              "    }\n",
              "\n",
              "    [theme=dark] .colab-df-convert {\n",
              "      background-color: #3B4455;\n",
              "      fill: #D2E3FC;\n",
              "    }\n",
              "\n",
              "    [theme=dark] .colab-df-convert:hover {\n",
              "      background-color: #434B5C;\n",
              "      box-shadow: 0px 1px 3px 1px rgba(0, 0, 0, 0.15);\n",
              "      filter: drop-shadow(0px 1px 2px rgba(0, 0, 0, 0.3));\n",
              "      fill: #FFFFFF;\n",
              "    }\n",
              "  </style>\n",
              "\n",
              "      <script>\n",
              "        const buttonEl =\n",
              "          document.querySelector('#df-ebb4c662-839e-4902-9433-80ecb6e1ead5 button.colab-df-convert');\n",
              "        buttonEl.style.display =\n",
              "          google.colab.kernel.accessAllowed ? 'block' : 'none';\n",
              "\n",
              "        async function convertToInteractive(key) {\n",
              "          const element = document.querySelector('#df-ebb4c662-839e-4902-9433-80ecb6e1ead5');\n",
              "          const dataTable =\n",
              "            await google.colab.kernel.invokeFunction('convertToInteractive',\n",
              "                                                     [key], {});\n",
              "          if (!dataTable) return;\n",
              "\n",
              "          const docLinkHtml = 'Like what you see? Visit the ' +\n",
              "            '<a target=\"_blank\" href=https://colab.research.google.com/notebooks/data_table.ipynb>data table notebook</a>'\n",
              "            + ' to learn more about interactive tables.';\n",
              "          element.innerHTML = '';\n",
              "          dataTable['output_type'] = 'display_data';\n",
              "          await google.colab.output.renderOutput(dataTable, element);\n",
              "          const docLink = document.createElement('div');\n",
              "          docLink.innerHTML = docLinkHtml;\n",
              "          element.appendChild(docLink);\n",
              "        }\n",
              "      </script>\n",
              "    </div>\n",
              "  </div>\n",
              "  "
            ]
          },
          "metadata": {},
          "execution_count": 112
        }
      ]
    },
    {
      "cell_type": "code",
      "source": [
        "### add one-hot encoded colums and remove the original categorical columns\n",
        "\n",
        "df_oh = pd.concat ([df_oh, df], axis=1)\n",
        "df_oh = df_oh.drop(cat_cols, axis=1)\n",
        "\n",
        "print(df_oh.shape)\n",
        "df_oh.sample(5)"
      ],
      "metadata": {
        "colab": {
          "base_uri": "https://localhost:8080/",
          "height": 318
        },
        "id": "-XJu-fynJNI8",
        "outputId": "ee26c581-9c28-4200-a8eb-a8013101d4ba"
      },
      "execution_count": 113,
      "outputs": [
        {
          "output_type": "stream",
          "name": "stdout",
          "text": [
            "(730, 30)\n"
          ]
        },
        {
          "output_type": "execute_result",
          "data": {
            "text/plain": [
              "     year_2019  month_February  month_March  month_April  month_May  \\\n",
              "68           0               0            1            0          0   \n",
              "101          0               0            0            1          0   \n",
              "669          1               0            0            0          0   \n",
              "351          0               0            0            0          0   \n",
              "485          1               0            0            0          1   \n",
              "\n",
              "     month_June  month_July  month_August  month_September  month_October  \\\n",
              "68            0           0             0                0              0   \n",
              "101           0           0             0                0              0   \n",
              "669           0           0             0                0              0   \n",
              "351           0           0             0                0              0   \n",
              "485           0           0             0                0              0   \n",
              "\n",
              "     ...  season_s2  season_s3  season_s4  weather_w2  weather_w3       temp  \\\n",
              "68   ...          0          0          0           0           1  15.952731   \n",
              "101  ...          1          0          0           1           0  20.602500   \n",
              "669  ...          0          0          1           1           0  14.999153   \n",
              "351  ...          0          0          1           0           0   9.771653   \n",
              "485  ...          1          0          0           1           0  25.146653   \n",
              "\n",
              "        atemp  humidity  windspeed  count  \n",
              "68   19.28340    0.0000  17.545759    623  \n",
              "101  24.65270   73.9167  18.416893   2034  \n",
              "669  18.49710   58.1667  10.542182   5986  \n",
              "351  12.27895   58.6250  11.375193   2431  \n",
              "485  28.85105   65.9583  10.458432   5740  \n",
              "\n",
              "[5 rows x 30 columns]"
            ],
            "text/html": [
              "\n",
              "  <div id=\"df-9dd66dbf-9b55-400e-8a93-2e098fde285a\">\n",
              "    <div class=\"colab-df-container\">\n",
              "      <div>\n",
              "<style scoped>\n",
              "    .dataframe tbody tr th:only-of-type {\n",
              "        vertical-align: middle;\n",
              "    }\n",
              "\n",
              "    .dataframe tbody tr th {\n",
              "        vertical-align: top;\n",
              "    }\n",
              "\n",
              "    .dataframe thead th {\n",
              "        text-align: right;\n",
              "    }\n",
              "</style>\n",
              "<table border=\"1\" class=\"dataframe\">\n",
              "  <thead>\n",
              "    <tr style=\"text-align: right;\">\n",
              "      <th></th>\n",
              "      <th>year_2019</th>\n",
              "      <th>month_February</th>\n",
              "      <th>month_March</th>\n",
              "      <th>month_April</th>\n",
              "      <th>month_May</th>\n",
              "      <th>month_June</th>\n",
              "      <th>month_July</th>\n",
              "      <th>month_August</th>\n",
              "      <th>month_September</th>\n",
              "      <th>month_October</th>\n",
              "      <th>...</th>\n",
              "      <th>season_s2</th>\n",
              "      <th>season_s3</th>\n",
              "      <th>season_s4</th>\n",
              "      <th>weather_w2</th>\n",
              "      <th>weather_w3</th>\n",
              "      <th>temp</th>\n",
              "      <th>atemp</th>\n",
              "      <th>humidity</th>\n",
              "      <th>windspeed</th>\n",
              "      <th>count</th>\n",
              "    </tr>\n",
              "  </thead>\n",
              "  <tbody>\n",
              "    <tr>\n",
              "      <th>68</th>\n",
              "      <td>0</td>\n",
              "      <td>0</td>\n",
              "      <td>1</td>\n",
              "      <td>0</td>\n",
              "      <td>0</td>\n",
              "      <td>0</td>\n",
              "      <td>0</td>\n",
              "      <td>0</td>\n",
              "      <td>0</td>\n",
              "      <td>0</td>\n",
              "      <td>...</td>\n",
              "      <td>0</td>\n",
              "      <td>0</td>\n",
              "      <td>0</td>\n",
              "      <td>0</td>\n",
              "      <td>1</td>\n",
              "      <td>15.952731</td>\n",
              "      <td>19.28340</td>\n",
              "      <td>0.0000</td>\n",
              "      <td>17.545759</td>\n",
              "      <td>623</td>\n",
              "    </tr>\n",
              "    <tr>\n",
              "      <th>101</th>\n",
              "      <td>0</td>\n",
              "      <td>0</td>\n",
              "      <td>0</td>\n",
              "      <td>1</td>\n",
              "      <td>0</td>\n",
              "      <td>0</td>\n",
              "      <td>0</td>\n",
              "      <td>0</td>\n",
              "      <td>0</td>\n",
              "      <td>0</td>\n",
              "      <td>...</td>\n",
              "      <td>1</td>\n",
              "      <td>0</td>\n",
              "      <td>0</td>\n",
              "      <td>1</td>\n",
              "      <td>0</td>\n",
              "      <td>20.602500</td>\n",
              "      <td>24.65270</td>\n",
              "      <td>73.9167</td>\n",
              "      <td>18.416893</td>\n",
              "      <td>2034</td>\n",
              "    </tr>\n",
              "    <tr>\n",
              "      <th>669</th>\n",
              "      <td>1</td>\n",
              "      <td>0</td>\n",
              "      <td>0</td>\n",
              "      <td>0</td>\n",
              "      <td>0</td>\n",
              "      <td>0</td>\n",
              "      <td>0</td>\n",
              "      <td>0</td>\n",
              "      <td>0</td>\n",
              "      <td>0</td>\n",
              "      <td>...</td>\n",
              "      <td>0</td>\n",
              "      <td>0</td>\n",
              "      <td>1</td>\n",
              "      <td>1</td>\n",
              "      <td>0</td>\n",
              "      <td>14.999153</td>\n",
              "      <td>18.49710</td>\n",
              "      <td>58.1667</td>\n",
              "      <td>10.542182</td>\n",
              "      <td>5986</td>\n",
              "    </tr>\n",
              "    <tr>\n",
              "      <th>351</th>\n",
              "      <td>0</td>\n",
              "      <td>0</td>\n",
              "      <td>0</td>\n",
              "      <td>0</td>\n",
              "      <td>0</td>\n",
              "      <td>0</td>\n",
              "      <td>0</td>\n",
              "      <td>0</td>\n",
              "      <td>0</td>\n",
              "      <td>0</td>\n",
              "      <td>...</td>\n",
              "      <td>0</td>\n",
              "      <td>0</td>\n",
              "      <td>1</td>\n",
              "      <td>0</td>\n",
              "      <td>0</td>\n",
              "      <td>9.771653</td>\n",
              "      <td>12.27895</td>\n",
              "      <td>58.6250</td>\n",
              "      <td>11.375193</td>\n",
              "      <td>2431</td>\n",
              "    </tr>\n",
              "    <tr>\n",
              "      <th>485</th>\n",
              "      <td>1</td>\n",
              "      <td>0</td>\n",
              "      <td>0</td>\n",
              "      <td>0</td>\n",
              "      <td>1</td>\n",
              "      <td>0</td>\n",
              "      <td>0</td>\n",
              "      <td>0</td>\n",
              "      <td>0</td>\n",
              "      <td>0</td>\n",
              "      <td>...</td>\n",
              "      <td>1</td>\n",
              "      <td>0</td>\n",
              "      <td>0</td>\n",
              "      <td>1</td>\n",
              "      <td>0</td>\n",
              "      <td>25.146653</td>\n",
              "      <td>28.85105</td>\n",
              "      <td>65.9583</td>\n",
              "      <td>10.458432</td>\n",
              "      <td>5740</td>\n",
              "    </tr>\n",
              "  </tbody>\n",
              "</table>\n",
              "<p>5 rows × 30 columns</p>\n",
              "</div>\n",
              "      <button class=\"colab-df-convert\" onclick=\"convertToInteractive('df-9dd66dbf-9b55-400e-8a93-2e098fde285a')\"\n",
              "              title=\"Convert this dataframe to an interactive table.\"\n",
              "              style=\"display:none;\">\n",
              "        \n",
              "  <svg xmlns=\"http://www.w3.org/2000/svg\" height=\"24px\"viewBox=\"0 0 24 24\"\n",
              "       width=\"24px\">\n",
              "    <path d=\"M0 0h24v24H0V0z\" fill=\"none\"/>\n",
              "    <path d=\"M18.56 5.44l.94 2.06.94-2.06 2.06-.94-2.06-.94-.94-2.06-.94 2.06-2.06.94zm-11 1L8.5 8.5l.94-2.06 2.06-.94-2.06-.94L8.5 2.5l-.94 2.06-2.06.94zm10 10l.94 2.06.94-2.06 2.06-.94-2.06-.94-.94-2.06-.94 2.06-2.06.94z\"/><path d=\"M17.41 7.96l-1.37-1.37c-.4-.4-.92-.59-1.43-.59-.52 0-1.04.2-1.43.59L10.3 9.45l-7.72 7.72c-.78.78-.78 2.05 0 2.83L4 21.41c.39.39.9.59 1.41.59.51 0 1.02-.2 1.41-.59l7.78-7.78 2.81-2.81c.8-.78.8-2.07 0-2.86zM5.41 20L4 18.59l7.72-7.72 1.47 1.35L5.41 20z\"/>\n",
              "  </svg>\n",
              "      </button>\n",
              "      \n",
              "  <style>\n",
              "    .colab-df-container {\n",
              "      display:flex;\n",
              "      flex-wrap:wrap;\n",
              "      gap: 12px;\n",
              "    }\n",
              "\n",
              "    .colab-df-convert {\n",
              "      background-color: #E8F0FE;\n",
              "      border: none;\n",
              "      border-radius: 50%;\n",
              "      cursor: pointer;\n",
              "      display: none;\n",
              "      fill: #1967D2;\n",
              "      height: 32px;\n",
              "      padding: 0 0 0 0;\n",
              "      width: 32px;\n",
              "    }\n",
              "\n",
              "    .colab-df-convert:hover {\n",
              "      background-color: #E2EBFA;\n",
              "      box-shadow: 0px 1px 2px rgba(60, 64, 67, 0.3), 0px 1px 3px 1px rgba(60, 64, 67, 0.15);\n",
              "      fill: #174EA6;\n",
              "    }\n",
              "\n",
              "    [theme=dark] .colab-df-convert {\n",
              "      background-color: #3B4455;\n",
              "      fill: #D2E3FC;\n",
              "    }\n",
              "\n",
              "    [theme=dark] .colab-df-convert:hover {\n",
              "      background-color: #434B5C;\n",
              "      box-shadow: 0px 1px 3px 1px rgba(0, 0, 0, 0.15);\n",
              "      filter: drop-shadow(0px 1px 2px rgba(0, 0, 0, 0.3));\n",
              "      fill: #FFFFFF;\n",
              "    }\n",
              "  </style>\n",
              "\n",
              "      <script>\n",
              "        const buttonEl =\n",
              "          document.querySelector('#df-9dd66dbf-9b55-400e-8a93-2e098fde285a button.colab-df-convert');\n",
              "        buttonEl.style.display =\n",
              "          google.colab.kernel.accessAllowed ? 'block' : 'none';\n",
              "\n",
              "        async function convertToInteractive(key) {\n",
              "          const element = document.querySelector('#df-9dd66dbf-9b55-400e-8a93-2e098fde285a');\n",
              "          const dataTable =\n",
              "            await google.colab.kernel.invokeFunction('convertToInteractive',\n",
              "                                                     [key], {});\n",
              "          if (!dataTable) return;\n",
              "\n",
              "          const docLinkHtml = 'Like what you see? Visit the ' +\n",
              "            '<a target=\"_blank\" href=https://colab.research.google.com/notebooks/data_table.ipynb>data table notebook</a>'\n",
              "            + ' to learn more about interactive tables.';\n",
              "          element.innerHTML = '';\n",
              "          dataTable['output_type'] = 'display_data';\n",
              "          await google.colab.output.renderOutput(dataTable, element);\n",
              "          const docLink = document.createElement('div');\n",
              "          docLink.innerHTML = docLinkHtml;\n",
              "          element.appendChild(docLink);\n",
              "        }\n",
              "      </script>\n",
              "    </div>\n",
              "  </div>\n",
              "  "
            ]
          },
          "metadata": {},
          "execution_count": 113
        }
      ]
    },
    {
      "cell_type": "markdown",
      "source": [
        "> There are 30 columns here, we need to figure out which ones contribute the most.\n",
        "> To begin I'll use *Recursive Feature Elimination* with a Linear regressor as estimator."
      ],
      "metadata": {
        "id": "9cyox4PyMOiV"
      }
    },
    {
      "cell_type": "markdown",
      "source": [
        "# RFE with Linear Regressor"
      ],
      "metadata": {
        "id": "hIb4AWS0lqRL"
      }
    },
    {
      "cell_type": "markdown",
      "source": [
        "> The reason I am using a Linear regressor is since RFE is an iterative process, and using something like Random Forest is much more time consuming.\n",
        "\n",
        "> Another reason is that EDA suggests that dependent variable has linear relationship with some of the dependent variables."
      ],
      "metadata": {
        "id": "U18o1HjXlt4M"
      }
    },
    {
      "cell_type": "markdown",
      "source": [
        "**Splitting dataset**"
      ],
      "metadata": {
        "id": "MhhTNYsJmGdy"
      }
    },
    {
      "cell_type": "code",
      "source": [
        "df_train, df_test = train_test_split(df_oh, test_size=0.20, random_state=1)\n",
        "\n",
        "print(df_train.shape, df_test.shape)"
      ],
      "metadata": {
        "colab": {
          "base_uri": "https://localhost:8080/"
        },
        "id": "bpcQDW3xnBR_",
        "outputId": "d95dc56d-a438-4da3-af22-01213c1cba51"
      },
      "execution_count": 114,
      "outputs": [
        {
          "output_type": "stream",
          "name": "stdout",
          "text": [
            "(584, 30) (146, 30)\n"
          ]
        }
      ]
    },
    {
      "cell_type": "markdown",
      "source": [
        "**Scaling continuous features**"
      ],
      "metadata": {
        "id": "bdnfc4vIo0UT"
      }
    },
    {
      "cell_type": "markdown",
      "source": [
        "> We need to scale the non categorical features. But to select the type of scaling we first need to see the distribution of features."
      ],
      "metadata": {
        "id": "D6whchA8o2MC"
      }
    },
    {
      "cell_type": "code",
      "source": [
        "scale_cols = num_cols + ['count']\n",
        "fig, axes = plt.subplots(2, 3, figsize=(18, 6))\n",
        "for i, col in enumerate(scale_cols[:3]):\n",
        "  sns.kdeplot(data=df_oh, x=col, ax=axes[0][i], fill=True)\n",
        "for i, col in enumerate(scale_cols[3:]):\n",
        "  sns.kdeplot(data=df_oh, x=col, ax=axes[1][i], fill=True)"
      ],
      "metadata": {
        "colab": {
          "base_uri": "https://localhost:8080/",
          "height": 389
        },
        "id": "l82U_a6_q4F1",
        "outputId": "77d03772-5d94-4acc-a972-0929e0443f18"
      },
      "execution_count": 115,
      "outputs": [
        {
          "output_type": "display_data",
          "data": {
            "text/plain": [
              "<Figure size 1296x432 with 6 Axes>"
            ],
            "image/png": "[encoded data removed]"
          },
          "metadata": {
            "needs_background": "light"
          }
        }
      ]
    },
    {
      "cell_type": "markdown",
      "source": [
        "> Not all features resemble a normal distribution so I'll just use Minmax scaler to scale them, for normal features we StandardScaler is usually a better choice."
      ],
      "metadata": {
        "id": "pa5rUGN-rBvY"
      }
    },
    {
      "cell_type": "code",
      "source": [
        "## scale\n",
        "scaler = MinMaxScaler()\n",
        "df_train[scale_cols] = scaler.fit_transform(df_train[scale_cols])\n",
        "\n",
        "df_train[scale_cols].head()   ### scaled"
      ],
      "metadata": {
        "colab": {
          "base_uri": "https://localhost:8080/",
          "height": 206
        },
        "id": "mINNxaxQugK2",
        "outputId": "7bbefb90-6226-4016-9ee1-930e2e870bb9"
      },
      "execution_count": 116,
      "outputs": [
        {
          "output_type": "execute_result",
          "data": {
            "text/plain": [
              "         temp     atemp  humidity  windspeed     count\n",
              "68   0.411147  0.402452  0.000000   0.493712  0.069144\n",
              "76   0.599187  0.587981  0.540069   0.430092  0.370110\n",
              "615  0.747675  0.698389  0.821766   0.533349  0.684998\n",
              "713  0.330249  0.340384  0.668809   0.173084  0.578118\n",
              "139  0.595034  0.590650  0.739931   0.211559  0.563162"
            ],
            "text/html": [
              "\n",
              "  <div id=\"df-e65240c6-7e68-4bcd-9acd-95ff92f16e00\">\n",
              "    <div class=\"colab-df-container\">\n",
              "      <div>\n",
              "<style scoped>\n",
              "    .dataframe tbody tr th:only-of-type {\n",
              "        vertical-align: middle;\n",
              "    }\n",
              "\n",
              "    .dataframe tbody tr th {\n",
              "        vertical-align: top;\n",
              "    }\n",
              "\n",
              "    .dataframe thead th {\n",
              "        text-align: right;\n",
              "    }\n",
              "</style>\n",
              "<table border=\"1\" class=\"dataframe\">\n",
              "  <thead>\n",
              "    <tr style=\"text-align: right;\">\n",
              "      <th></th>\n",
              "      <th>temp</th>\n",
              "      <th>atemp</th>\n",
              "      <th>humidity</th>\n",
              "      <th>windspeed</th>\n",
              "      <th>count</th>\n",
              "    </tr>\n",
              "  </thead>\n",
              "  <tbody>\n",
              "    <tr>\n",
              "      <th>68</th>\n",
              "      <td>0.411147</td>\n",
              "      <td>0.402452</td>\n",
              "      <td>0.000000</td>\n",
              "      <td>0.493712</td>\n",
              "      <td>0.069144</td>\n",
              "    </tr>\n",
              "    <tr>\n",
              "      <th>76</th>\n",
              "      <td>0.599187</td>\n",
              "      <td>0.587981</td>\n",
              "      <td>0.540069</td>\n",
              "      <td>0.430092</td>\n",
              "      <td>0.370110</td>\n",
              "    </tr>\n",
              "    <tr>\n",
              "      <th>615</th>\n",
              "      <td>0.747675</td>\n",
              "      <td>0.698389</td>\n",
              "      <td>0.821766</td>\n",
              "      <td>0.533349</td>\n",
              "      <td>0.684998</td>\n",
              "    </tr>\n",
              "    <tr>\n",
              "      <th>713</th>\n",
              "      <td>0.330249</td>\n",
              "      <td>0.340384</td>\n",
              "      <td>0.668809</td>\n",
              "      <td>0.173084</td>\n",
              "      <td>0.578118</td>\n",
              "    </tr>\n",
              "    <tr>\n",
              "      <th>139</th>\n",
              "      <td>0.595034</td>\n",
              "      <td>0.590650</td>\n",
              "      <td>0.739931</td>\n",
              "      <td>0.211559</td>\n",
              "      <td>0.563162</td>\n",
              "    </tr>\n",
              "  </tbody>\n",
              "</table>\n",
              "</div>\n",
              "      <button class=\"colab-df-convert\" onclick=\"convertToInteractive('df-e65240c6-7e68-4bcd-9acd-95ff92f16e00')\"\n",
              "              title=\"Convert this dataframe to an interactive table.\"\n",
              "              style=\"display:none;\">\n",
              "        \n",
              "  <svg xmlns=\"http://www.w3.org/2000/svg\" height=\"24px\"viewBox=\"0 0 24 24\"\n",
              "       width=\"24px\">\n",
              "    <path d=\"M0 0h24v24H0V0z\" fill=\"none\"/>\n",
              "    <path d=\"M18.56 5.44l.94 2.06.94-2.06 2.06-.94-2.06-.94-.94-2.06-.94 2.06-2.06.94zm-11 1L8.5 8.5l.94-2.06 2.06-.94-2.06-.94L8.5 2.5l-.94 2.06-2.06.94zm10 10l.94 2.06.94-2.06 2.06-.94-2.06-.94-.94-2.06-.94 2.06-2.06.94z\"/><path d=\"M17.41 7.96l-1.37-1.37c-.4-.4-.92-.59-1.43-.59-.52 0-1.04.2-1.43.59L10.3 9.45l-7.72 7.72c-.78.78-.78 2.05 0 2.83L4 21.41c.39.39.9.59 1.41.59.51 0 1.02-.2 1.41-.59l7.78-7.78 2.81-2.81c.8-.78.8-2.07 0-2.86zM5.41 20L4 18.59l7.72-7.72 1.47 1.35L5.41 20z\"/>\n",
              "  </svg>\n",
              "      </button>\n",
              "      \n",
              "  <style>\n",
              "    .colab-df-container {\n",
              "      display:flex;\n",
              "      flex-wrap:wrap;\n",
              "      gap: 12px;\n",
              "    }\n",
              "\n",
              "    .colab-df-convert {\n",
              "      background-color: #E8F0FE;\n",
              "      border: none;\n",
              "      border-radius: 50%;\n",
              "      cursor: pointer;\n",
              "      display: none;\n",
              "      fill: #1967D2;\n",
              "      height: 32px;\n",
              "      padding: 0 0 0 0;\n",
              "      width: 32px;\n",
              "    }\n",
              "\n",
              "    .colab-df-convert:hover {\n",
              "      background-color: #E2EBFA;\n",
              "      box-shadow: 0px 1px 2px rgba(60, 64, 67, 0.3), 0px 1px 3px 1px rgba(60, 64, 67, 0.15);\n",
              "      fill: #174EA6;\n",
              "    }\n",
              "\n",
              "    [theme=dark] .colab-df-convert {\n",
              "      background-color: #3B4455;\n",
              "      fill: #D2E3FC;\n",
              "    }\n",
              "\n",
              "    [theme=dark] .colab-df-convert:hover {\n",
              "      background-color: #434B5C;\n",
              "      box-shadow: 0px 1px 3px 1px rgba(0, 0, 0, 0.15);\n",
              "      filter: drop-shadow(0px 1px 2px rgba(0, 0, 0, 0.3));\n",
              "      fill: #FFFFFF;\n",
              "    }\n",
              "  </style>\n",
              "\n",
              "      <script>\n",
              "        const buttonEl =\n",
              "          document.querySelector('#df-e65240c6-7e68-4bcd-9acd-95ff92f16e00 button.colab-df-convert');\n",
              "        buttonEl.style.display =\n",
              "          google.colab.kernel.accessAllowed ? 'block' : 'none';\n",
              "\n",
              "        async function convertToInteractive(key) {\n",
              "          const element = document.querySelector('#df-e65240c6-7e68-4bcd-9acd-95ff92f16e00');\n",
              "          const dataTable =\n",
              "            await google.colab.kernel.invokeFunction('convertToInteractive',\n",
              "                                                     [key], {});\n",
              "          if (!dataTable) return;\n",
              "\n",
              "          const docLinkHtml = 'Like what you see? Visit the ' +\n",
              "            '<a target=\"_blank\" href=https://colab.research.google.com/notebooks/data_table.ipynb>data table notebook</a>'\n",
              "            + ' to learn more about interactive tables.';\n",
              "          element.innerHTML = '';\n",
              "          dataTable['output_type'] = 'display_data';\n",
              "          await google.colab.output.renderOutput(dataTable, element);\n",
              "          const docLink = document.createElement('div');\n",
              "          docLink.innerHTML = docLinkHtml;\n",
              "          element.appendChild(docLink);\n",
              "        }\n",
              "      </script>\n",
              "    </div>\n",
              "  </div>\n",
              "  "
            ]
          },
          "metadata": {},
          "execution_count": 116
        }
      ]
    },
    {
      "cell_type": "markdown",
      "source": [
        "**Building Models**"
      ],
      "metadata": {
        "id": "h3SNXI2QKw7I"
      }
    },
    {
      "cell_type": "code",
      "source": [
        "## scale test data\n",
        "df_test[scale_cols] = scaler.transform(df_test[scale_cols])\n",
        "\n",
        "x_test = df_test.drop(['count'], axis=1)\n",
        "y_test = df_test['count']\n",
        "\n",
        "df_test[scale_cols].head()   ### scaled"
      ],
      "metadata": {
        "colab": {
          "base_uri": "https://localhost:8080/",
          "height": 206
        },
        "id": "RqT8_CZXU6yF",
        "outputId": "56eb9294-dc69-4ce3-bcb0-2b3787c1ff63"
      },
      "execution_count": 117,
      "outputs": [
        {
          "output_type": "execute_result",
          "data": {
            "text/plain": [
              "         temp     atemp  humidity  windspeed     count\n",
              "248  0.599187  0.572480  0.912038   0.662895  0.309250\n",
              "298  0.529616  0.516885  0.740789   0.260272  0.445467\n",
              "159  0.933543  0.890635  0.584404   0.262830  0.447883\n",
              "660  0.604379  0.592306  0.659812   0.148749  0.856420\n",
              "511  0.786094  0.738167  0.716795   0.397425  0.755752"
            ],
            "text/html": [
              "\n",
              "  <div id=\"df-6290ea17-b576-4b37-805f-4a5816b62e5c\">\n",
              "    <div class=\"colab-df-container\">\n",
              "      <div>\n",
              "<style scoped>\n",
              "    .dataframe tbody tr th:only-of-type {\n",
              "        vertical-align: middle;\n",
              "    }\n",
              "\n",
              "    .dataframe tbody tr th {\n",
              "        vertical-align: top;\n",
              "    }\n",
              "\n",
              "    .dataframe thead th {\n",
              "        text-align: right;\n",
              "    }\n",
              "</style>\n",
              "<table border=\"1\" class=\"dataframe\">\n",
              "  <thead>\n",
              "    <tr style=\"text-align: right;\">\n",
              "      <th></th>\n",
              "      <th>temp</th>\n",
              "      <th>atemp</th>\n",
              "      <th>humidity</th>\n",
              "      <th>windspeed</th>\n",
              "      <th>count</th>\n",
              "    </tr>\n",
              "  </thead>\n",
              "  <tbody>\n",
              "    <tr>\n",
              "      <th>248</th>\n",
              "      <td>0.599187</td>\n",
              "      <td>0.572480</td>\n",
              "      <td>0.912038</td>\n",
              "      <td>0.662895</td>\n",
              "      <td>0.309250</td>\n",
              "    </tr>\n",
              "    <tr>\n",
              "      <th>298</th>\n",
              "      <td>0.529616</td>\n",
              "      <td>0.516885</td>\n",
              "      <td>0.740789</td>\n",
              "      <td>0.260272</td>\n",
              "      <td>0.445467</td>\n",
              "    </tr>\n",
              "    <tr>\n",
              "      <th>159</th>\n",
              "      <td>0.933543</td>\n",
              "      <td>0.890635</td>\n",
              "      <td>0.584404</td>\n",
              "      <td>0.262830</td>\n",
              "      <td>0.447883</td>\n",
              "    </tr>\n",
              "    <tr>\n",
              "      <th>660</th>\n",
              "      <td>0.604379</td>\n",
              "      <td>0.592306</td>\n",
              "      <td>0.659812</td>\n",
              "      <td>0.148749</td>\n",
              "      <td>0.856420</td>\n",
              "    </tr>\n",
              "    <tr>\n",
              "      <th>511</th>\n",
              "      <td>0.786094</td>\n",
              "      <td>0.738167</td>\n",
              "      <td>0.716795</td>\n",
              "      <td>0.397425</td>\n",
              "      <td>0.755752</td>\n",
              "    </tr>\n",
              "  </tbody>\n",
              "</table>\n",
              "</div>\n",
              "      <button class=\"colab-df-convert\" onclick=\"convertToInteractive('df-6290ea17-b576-4b37-805f-4a5816b62e5c')\"\n",
              "              title=\"Convert this dataframe to an interactive table.\"\n",
              "              style=\"display:none;\">\n",
              "        \n",
              "  <svg xmlns=\"http://www.w3.org/2000/svg\" height=\"24px\"viewBox=\"0 0 24 24\"\n",
              "       width=\"24px\">\n",
              "    <path d=\"M0 0h24v24H0V0z\" fill=\"none\"/>\n",
              "    <path d=\"M18.56 5.44l.94 2.06.94-2.06 2.06-.94-2.06-.94-.94-2.06-.94 2.06-2.06.94zm-11 1L8.5 8.5l.94-2.06 2.06-.94-2.06-.94L8.5 2.5l-.94 2.06-2.06.94zm10 10l.94 2.06.94-2.06 2.06-.94-2.06-.94-.94-2.06-.94 2.06-2.06.94z\"/><path d=\"M17.41 7.96l-1.37-1.37c-.4-.4-.92-.59-1.43-.59-.52 0-1.04.2-1.43.59L10.3 9.45l-7.72 7.72c-.78.78-.78 2.05 0 2.83L4 21.41c.39.39.9.59 1.41.59.51 0 1.02-.2 1.41-.59l7.78-7.78 2.81-2.81c.8-.78.8-2.07 0-2.86zM5.41 20L4 18.59l7.72-7.72 1.47 1.35L5.41 20z\"/>\n",
              "  </svg>\n",
              "      </button>\n",
              "      \n",
              "  <style>\n",
              "    .colab-df-container {\n",
              "      display:flex;\n",
              "      flex-wrap:wrap;\n",
              "      gap: 12px;\n",
              "    }\n",
              "\n",
              "    .colab-df-convert {\n",
              "      background-color: #E8F0FE;\n",
              "      border: none;\n",
              "      border-radius: 50%;\n",
              "      cursor: pointer;\n",
              "      display: none;\n",
              "      fill: #1967D2;\n",
              "      height: 32px;\n",
              "      padding: 0 0 0 0;\n",
              "      width: 32px;\n",
              "    }\n",
              "\n",
              "    .colab-df-convert:hover {\n",
              "      background-color: #E2EBFA;\n",
              "      box-shadow: 0px 1px 2px rgba(60, 64, 67, 0.3), 0px 1px 3px 1px rgba(60, 64, 67, 0.15);\n",
              "      fill: #174EA6;\n",
              "    }\n",
              "\n",
              "    [theme=dark] .colab-df-convert {\n",
              "      background-color: #3B4455;\n",
              "      fill: #D2E3FC;\n",
              "    }\n",
              "\n",
              "    [theme=dark] .colab-df-convert:hover {\n",
              "      background-color: #434B5C;\n",
              "      box-shadow: 0px 1px 3px 1px rgba(0, 0, 0, 0.15);\n",
              "      filter: drop-shadow(0px 1px 2px rgba(0, 0, 0, 0.3));\n",
              "      fill: #FFFFFF;\n",
              "    }\n",
              "  </style>\n",
              "\n",
              "      <script>\n",
              "        const buttonEl =\n",
              "          document.querySelector('#df-6290ea17-b576-4b37-805f-4a5816b62e5c button.colab-df-convert');\n",
              "        buttonEl.style.display =\n",
              "          google.colab.kernel.accessAllowed ? 'block' : 'none';\n",
              "\n",
              "        async function convertToInteractive(key) {\n",
              "          const element = document.querySelector('#df-6290ea17-b576-4b37-805f-4a5816b62e5c');\n",
              "          const dataTable =\n",
              "            await google.colab.kernel.invokeFunction('convertToInteractive',\n",
              "                                                     [key], {});\n",
              "          if (!dataTable) return;\n",
              "\n",
              "          const docLinkHtml = 'Like what you see? Visit the ' +\n",
              "            '<a target=\"_blank\" href=https://colab.research.google.com/notebooks/data_table.ipynb>data table notebook</a>'\n",
              "            + ' to learn more about interactive tables.';\n",
              "          element.innerHTML = '';\n",
              "          dataTable['output_type'] = 'display_data';\n",
              "          await google.colab.output.renderOutput(dataTable, element);\n",
              "          const docLink = document.createElement('div');\n",
              "          docLink.innerHTML = docLinkHtml;\n",
              "          element.appendChild(docLink);\n",
              "        }\n",
              "      </script>\n",
              "    </div>\n",
              "  </div>\n",
              "  "
            ]
          },
          "metadata": {},
          "execution_count": 117
        }
      ]
    },
    {
      "cell_type": "code",
      "source": [
        "x_train = df_train.drop(['count'], axis=1)\n",
        "y_train = df_train['count']\n",
        "print(x_train.shape, y_train.shape)"
      ],
      "metadata": {
        "colab": {
          "base_uri": "https://localhost:8080/"
        },
        "id": "ADoXTCO5T0t4",
        "outputId": "b9c0d3d0-5653-4b4e-b4df-4f5cb1ead04f"
      },
      "execution_count": 118,
      "outputs": [
        {
          "output_type": "stream",
          "name": "stdout",
          "text": [
            "(584, 29) (584,)\n"
          ]
        }
      ]
    },
    {
      "cell_type": "code",
      "source": [
        "## linear regressor\n",
        "\n",
        "lm = LinearRegression(n_jobs=-1)\n",
        "_ = lm.fit(x_train, y_train)\n",
        "\n",
        "print(f\"R2 score: {lm.score(x_test, y_test)}\")\n"
      ],
      "metadata": {
        "colab": {
          "base_uri": "https://localhost:8080/"
        },
        "id": "ZTL0JyChTowg",
        "outputId": "8090aab9-2c25-4bf1-cf59-a4178bd5599e"
      },
      "execution_count": 119,
      "outputs": [
        {
          "output_type": "stream",
          "name": "stdout",
          "text": [
            "R2 score: 0.8821566733534321\n"
          ]
        }
      ]
    },
    {
      "cell_type": "markdown",
      "source": [
        "**RFE**"
      ],
      "metadata": {
        "id": "Jduc9aNeWZY-"
      }
    },
    {
      "cell_type": "code",
      "source": [
        "rfe = RFECV(lm, scoring='r2', cv=20)             # running RFE\n",
        "rfe = rfe.fit(x_train, y_train)"
      ],
      "metadata": {
        "id": "rrWO_acnnYfj"
      },
      "execution_count": 120,
      "outputs": []
    },
    {
      "cell_type": "code",
      "source": [
        "### features selected by RFE\n",
        "\n",
        "rfe_df = pd.DataFrame({'features': x_train.columns, 'selected': rfe.support_, 'rank': rfe.ranking_}, )\n",
        "rfe_df.sort_values('rank', ignore_index=True)"
      ],
      "metadata": {
        "colab": {
          "base_uri": "https://localhost:8080/",
          "height": 958
        },
        "id": "V0rh6OseoLDc",
        "outputId": "2205a90b-4d40-4f7e-9681-bc25c4710bb5"
      },
      "execution_count": 121,
      "outputs": [
        {
          "output_type": "execute_result",
          "data": {
            "text/plain": [
              "             features  selected  rank\n",
              "0           year_2019      True     1\n",
              "1               atemp      True     1\n",
              "2                temp      True     1\n",
              "3          weather_w3      True     1\n",
              "4          weather_w2      True     1\n",
              "5           season_s4      True     1\n",
              "6           season_s3      True     1\n",
              "7           season_s2      True     1\n",
              "8           holiday_1      True     1\n",
              "9            humidity      True     1\n",
              "10          windspeed      True     1\n",
              "11        month_March      True     1\n",
              "12      month_October      True     1\n",
              "13        month_April      True     1\n",
              "14          month_May      True     1\n",
              "15         month_June      True     1\n",
              "16    month_September      True     1\n",
              "17       month_August      True     1\n",
              "18     month_February     False     2\n",
              "19       workingday_1     False     3\n",
              "20   weekday_Thursday     False     4\n",
              "21     weekday_Friday     False     5\n",
              "22   weekday_Saturday     False     6\n",
              "23     weekday_Sunday     False     7\n",
              "24     month_November     False     8\n",
              "25         month_July     False     9\n",
              "26  weekday_Wednesday     False    10\n",
              "27    weekday_Tuesday     False    11\n",
              "28     month_December     False    12"
            ],
            "text/html": [
              "\n",
              "  <div id=\"df-037a5809-02aa-4128-94ef-80f0f88d98a3\">\n",
              "    <div class=\"colab-df-container\">\n",
              "      <div>\n",
              "<style scoped>\n",
              "    .dataframe tbody tr th:only-of-type {\n",
              "        vertical-align: middle;\n",
              "    }\n",
              "\n",
              "    .dataframe tbody tr th {\n",
              "        vertical-align: top;\n",
              "    }\n",
              "\n",
              "    .dataframe thead th {\n",
              "        text-align: right;\n",
              "    }\n",
              "</style>\n",
              "<table border=\"1\" class=\"dataframe\">\n",
              "  <thead>\n",
              "    <tr style=\"text-align: right;\">\n",
              "      <th></th>\n",
              "      <th>features</th>\n",
              "      <th>selected</th>\n",
              "      <th>rank</th>\n",
              "    </tr>\n",
              "  </thead>\n",
              "  <tbody>\n",
              "    <tr>\n",
              "      <th>0</th>\n",
              "      <td>year_2019</td>\n",
              "      <td>True</td>\n",
              "      <td>1</td>\n",
              "    </tr>\n",
              "    <tr>\n",
              "      <th>1</th>\n",
              "      <td>atemp</td>\n",
              "      <td>True</td>\n",
              "      <td>1</td>\n",
              "    </tr>\n",
              "    <tr>\n",
              "      <th>2</th>\n",
              "      <td>temp</td>\n",
              "      <td>True</td>\n",
              "      <td>1</td>\n",
              "    </tr>\n",
              "    <tr>\n",
              "      <th>3</th>\n",
              "      <td>weather_w3</td>\n",
              "      <td>True</td>\n",
              "      <td>1</td>\n",
              "    </tr>\n",
              "    <tr>\n",
              "      <th>4</th>\n",
              "      <td>weather_w2</td>\n",
              "      <td>True</td>\n",
              "      <td>1</td>\n",
              "    </tr>\n",
              "    <tr>\n",
              "      <th>5</th>\n",
              "      <td>season_s4</td>\n",
              "      <td>True</td>\n",
              "      <td>1</td>\n",
              "    </tr>\n",
              "    <tr>\n",
              "      <th>6</th>\n",
              "      <td>season_s3</td>\n",
              "      <td>True</td>\n",
              "      <td>1</td>\n",
              "    </tr>\n",
              "    <tr>\n",
              "      <th>7</th>\n",
              "      <td>season_s2</td>\n",
              "      <td>True</td>\n",
              "      <td>1</td>\n",
              "    </tr>\n",
              "    <tr>\n",
              "      <th>8</th>\n",
              "      <td>holiday_1</td>\n",
              "      <td>True</td>\n",
              "      <td>1</td>\n",
              "    </tr>\n",
              "    <tr>\n",
              "      <th>9</th>\n",
              "      <td>humidity</td>\n",
              "      <td>True</td>\n",
              "      <td>1</td>\n",
              "    </tr>\n",
              "    <tr>\n",
              "      <th>10</th>\n",
              "      <td>windspeed</td>\n",
              "      <td>True</td>\n",
              "      <td>1</td>\n",
              "    </tr>\n",
              "    <tr>\n",
              "      <th>11</th>\n",
              "      <td>month_March</td>\n",
              "      <td>True</td>\n",
              "      <td>1</td>\n",
              "    </tr>\n",
              "    <tr>\n",
              "      <th>12</th>\n",
              "      <td>month_October</td>\n",
              "      <td>True</td>\n",
              "      <td>1</td>\n",
              "    </tr>\n",
              "    <tr>\n",
              "      <th>13</th>\n",
              "      <td>month_April</td>\n",
              "      <td>True</td>\n",
              "      <td>1</td>\n",
              "    </tr>\n",
              "    <tr>\n",
              "      <th>14</th>\n",
              "      <td>month_May</td>\n",
              "      <td>True</td>\n",
              "      <td>1</td>\n",
              "    </tr>\n",
              "    <tr>\n",
              "      <th>15</th>\n",
              "      <td>month_June</td>\n",
              "      <td>True</td>\n",
              "      <td>1</td>\n",
              "    </tr>\n",
              "    <tr>\n",
              "      <th>16</th>\n",
              "      <td>month_September</td>\n",
              "      <td>True</td>\n",
              "      <td>1</td>\n",
              "    </tr>\n",
              "    <tr>\n",
              "      <th>17</th>\n",
              "      <td>month_August</td>\n",
              "      <td>True</td>\n",
              "      <td>1</td>\n",
              "    </tr>\n",
              "    <tr>\n",
              "      <th>18</th>\n",
              "      <td>month_February</td>\n",
              "      <td>False</td>\n",
              "      <td>2</td>\n",
              "    </tr>\n",
              "    <tr>\n",
              "      <th>19</th>\n",
              "      <td>workingday_1</td>\n",
              "      <td>False</td>\n",
              "      <td>3</td>\n",
              "    </tr>\n",
              "    <tr>\n",
              "      <th>20</th>\n",
              "      <td>weekday_Thursday</td>\n",
              "      <td>False</td>\n",
              "      <td>4</td>\n",
              "    </tr>\n",
              "    <tr>\n",
              "      <th>21</th>\n",
              "      <td>weekday_Friday</td>\n",
              "      <td>False</td>\n",
              "      <td>5</td>\n",
              "    </tr>\n",
              "    <tr>\n",
              "      <th>22</th>\n",
              "      <td>weekday_Saturday</td>\n",
              "      <td>False</td>\n",
              "      <td>6</td>\n",
              "    </tr>\n",
              "    <tr>\n",
              "      <th>23</th>\n",
              "      <td>weekday_Sunday</td>\n",
              "      <td>False</td>\n",
              "      <td>7</td>\n",
              "    </tr>\n",
              "    <tr>\n",
              "      <th>24</th>\n",
              "      <td>month_November</td>\n",
              "      <td>False</td>\n",
              "      <td>8</td>\n",
              "    </tr>\n",
              "    <tr>\n",
              "      <th>25</th>\n",
              "      <td>month_July</td>\n",
              "      <td>False</td>\n",
              "      <td>9</td>\n",
              "    </tr>\n",
              "    <tr>\n",
              "      <th>26</th>\n",
              "      <td>weekday_Wednesday</td>\n",
              "      <td>False</td>\n",
              "      <td>10</td>\n",
              "    </tr>\n",
              "    <tr>\n",
              "      <th>27</th>\n",
              "      <td>weekday_Tuesday</td>\n",
              "      <td>False</td>\n",
              "      <td>11</td>\n",
              "    </tr>\n",
              "    <tr>\n",
              "      <th>28</th>\n",
              "      <td>month_December</td>\n",
              "      <td>False</td>\n",
              "      <td>12</td>\n",
              "    </tr>\n",
              "  </tbody>\n",
              "</table>\n",
              "</div>\n",
              "      <button class=\"colab-df-convert\" onclick=\"convertToInteractive('df-037a5809-02aa-4128-94ef-80f0f88d98a3')\"\n",
              "              title=\"Convert this dataframe to an interactive table.\"\n",
              "              style=\"display:none;\">\n",
              "        \n",
              "  <svg xmlns=\"http://www.w3.org/2000/svg\" height=\"24px\"viewBox=\"0 0 24 24\"\n",
              "       width=\"24px\">\n",
              "    <path d=\"M0 0h24v24H0V0z\" fill=\"none\"/>\n",
              "    <path d=\"M18.56 5.44l.94 2.06.94-2.06 2.06-.94-2.06-.94-.94-2.06-.94 2.06-2.06.94zm-11 1L8.5 8.5l.94-2.06 2.06-.94-2.06-.94L8.5 2.5l-.94 2.06-2.06.94zm10 10l.94 2.06.94-2.06 2.06-.94-2.06-.94-.94-2.06-.94 2.06-2.06.94z\"/><path d=\"M17.41 7.96l-1.37-1.37c-.4-.4-.92-.59-1.43-.59-.52 0-1.04.2-1.43.59L10.3 9.45l-7.72 7.72c-.78.78-.78 2.05 0 2.83L4 21.41c.39.39.9.59 1.41.59.51 0 1.02-.2 1.41-.59l7.78-7.78 2.81-2.81c.8-.78.8-2.07 0-2.86zM5.41 20L4 18.59l7.72-7.72 1.47 1.35L5.41 20z\"/>\n",
              "  </svg>\n",
              "      </button>\n",
              "      \n",
              "  <style>\n",
              "    .colab-df-container {\n",
              "      display:flex;\n",
              "      flex-wrap:wrap;\n",
              "      gap: 12px;\n",
              "    }\n",
              "\n",
              "    .colab-df-convert {\n",
              "      background-color: #E8F0FE;\n",
              "      border: none;\n",
              "      border-radius: 50%;\n",
              "      cursor: pointer;\n",
              "      display: none;\n",
              "      fill: #1967D2;\n",
              "      height: 32px;\n",
              "      padding: 0 0 0 0;\n",
              "      width: 32px;\n",
              "    }\n",
              "\n",
              "    .colab-df-convert:hover {\n",
              "      background-color: #E2EBFA;\n",
              "      box-shadow: 0px 1px 2px rgba(60, 64, 67, 0.3), 0px 1px 3px 1px rgba(60, 64, 67, 0.15);\n",
              "      fill: #174EA6;\n",
              "    }\n",
              "\n",
              "    [theme=dark] .colab-df-convert {\n",
              "      background-color: #3B4455;\n",
              "      fill: #D2E3FC;\n",
              "    }\n",
              "\n",
              "    [theme=dark] .colab-df-convert:hover {\n",
              "      background-color: #434B5C;\n",
              "      box-shadow: 0px 1px 3px 1px rgba(0, 0, 0, 0.15);\n",
              "      filter: drop-shadow(0px 1px 2px rgba(0, 0, 0, 0.3));\n",
              "      fill: #FFFFFF;\n",
              "    }\n",
              "  </style>\n",
              "\n",
              "      <script>\n",
              "        const buttonEl =\n",
              "          document.querySelector('#df-037a5809-02aa-4128-94ef-80f0f88d98a3 button.colab-df-convert');\n",
              "        buttonEl.style.display =\n",
              "          google.colab.kernel.accessAllowed ? 'block' : 'none';\n",
              "\n",
              "        async function convertToInteractive(key) {\n",
              "          const element = document.querySelector('#df-037a5809-02aa-4128-94ef-80f0f88d98a3');\n",
              "          const dataTable =\n",
              "            await google.colab.kernel.invokeFunction('convertToInteractive',\n",
              "                                                     [key], {});\n",
              "          if (!dataTable) return;\n",
              "\n",
              "          const docLinkHtml = 'Like what you see? Visit the ' +\n",
              "            '<a target=\"_blank\" href=https://colab.research.google.com/notebooks/data_table.ipynb>data table notebook</a>'\n",
              "            + ' to learn more about interactive tables.';\n",
              "          element.innerHTML = '';\n",
              "          dataTable['output_type'] = 'display_data';\n",
              "          await google.colab.output.renderOutput(dataTable, element);\n",
              "          const docLink = document.createElement('div');\n",
              "          docLink.innerHTML = docLinkHtml;\n",
              "          element.appendChild(docLink);\n",
              "        }\n",
              "      </script>\n",
              "    </div>\n",
              "  </div>\n",
              "  "
            ]
          },
          "metadata": {},
          "execution_count": 121
        }
      ]
    },
    {
      "cell_type": "code",
      "source": [
        "## drop the unselected columns.\n",
        "\n",
        "x_train_rfe = x_train[x_train.columns[rfe.support_]]\n",
        "x_train_rfe.head()"
      ],
      "metadata": {
        "colab": {
          "base_uri": "https://localhost:8080/",
          "height": 270
        },
        "id": "G8dnZuTfuU0g",
        "outputId": "843be41b-520c-4741-f0fe-b53234947d67"
      },
      "execution_count": 122,
      "outputs": [
        {
          "output_type": "execute_result",
          "data": {
            "text/plain": [
              "     year_2019  month_March  month_April  month_May  month_June  month_August  \\\n",
              "68           0            1            0          0           0             0   \n",
              "76           0            1            0          0           0             0   \n",
              "615          1            0            0          0           0             0   \n",
              "713          1            0            0          0           0             0   \n",
              "139          0            0            0          1           0             0   \n",
              "\n",
              "     month_September  month_October  holiday_1  season_s2  season_s3  \\\n",
              "68                 0              0          0          0          0   \n",
              "76                 0              0          0          0          0   \n",
              "615                1              0          0          0          1   \n",
              "713                0              0          0          0          0   \n",
              "139                0              0          0          1          0   \n",
              "\n",
              "     season_s4  weather_w2  weather_w3      temp     atemp  humidity  \\\n",
              "68           0           0           1  0.411147  0.402452  0.000000   \n",
              "76           0           0           0  0.599187  0.587981  0.540069   \n",
              "615          0           1           0  0.747675  0.698389  0.821766   \n",
              "713          1           0           0  0.330249  0.340384  0.668809   \n",
              "139          0           0           0  0.595034  0.590650  0.739931   \n",
              "\n",
              "     windspeed  \n",
              "68    0.493712  \n",
              "76    0.430092  \n",
              "615   0.533349  \n",
              "713   0.173084  \n",
              "139   0.211559  "
            ],
            "text/html": [
              "\n",
              "  <div id=\"df-71892340-8804-4dc1-a901-bead680dda9d\">\n",
              "    <div class=\"colab-df-container\">\n",
              "      <div>\n",
              "<style scoped>\n",
              "    .dataframe tbody tr th:only-of-type {\n",
              "        vertical-align: middle;\n",
              "    }\n",
              "\n",
              "    .dataframe tbody tr th {\n",
              "        vertical-align: top;\n",
              "    }\n",
              "\n",
              "    .dataframe thead th {\n",
              "        text-align: right;\n",
              "    }\n",
              "</style>\n",
              "<table border=\"1\" class=\"dataframe\">\n",
              "  <thead>\n",
              "    <tr style=\"text-align: right;\">\n",
              "      <th></th>\n",
              "      <th>year_2019</th>\n",
              "      <th>month_March</th>\n",
              "      <th>month_April</th>\n",
              "      <th>month_May</th>\n",
              "      <th>month_June</th>\n",
              "      <th>month_August</th>\n",
              "      <th>month_September</th>\n",
              "      <th>month_October</th>\n",
              "      <th>holiday_1</th>\n",
              "      <th>season_s2</th>\n",
              "      <th>season_s3</th>\n",
              "      <th>season_s4</th>\n",
              "      <th>weather_w2</th>\n",
              "      <th>weather_w3</th>\n",
              "      <th>temp</th>\n",
              "      <th>atemp</th>\n",
              "      <th>humidity</th>\n",
              "      <th>windspeed</th>\n",
              "    </tr>\n",
              "  </thead>\n",
              "  <tbody>\n",
              "    <tr>\n",
              "      <th>68</th>\n",
              "      <td>0</td>\n",
              "      <td>1</td>\n",
              "      <td>0</td>\n",
              "      <td>0</td>\n",
              "      <td>0</td>\n",
              "      <td>0</td>\n",
              "      <td>0</td>\n",
              "      <td>0</td>\n",
              "      <td>0</td>\n",
              "      <td>0</td>\n",
              "      <td>0</td>\n",
              "      <td>0</td>\n",
              "      <td>0</td>\n",
              "      <td>1</td>\n",
              "      <td>0.411147</td>\n",
              "      <td>0.402452</td>\n",
              "      <td>0.000000</td>\n",
              "      <td>0.493712</td>\n",
              "    </tr>\n",
              "    <tr>\n",
              "      <th>76</th>\n",
              "      <td>0</td>\n",
              "      <td>1</td>\n",
              "      <td>0</td>\n",
              "      <td>0</td>\n",
              "      <td>0</td>\n",
              "      <td>0</td>\n",
              "      <td>0</td>\n",
              "      <td>0</td>\n",
              "      <td>0</td>\n",
              "      <td>0</td>\n",
              "      <td>0</td>\n",
              "      <td>0</td>\n",
              "      <td>0</td>\n",
              "      <td>0</td>\n",
              "      <td>0.599187</td>\n",
              "      <td>0.587981</td>\n",
              "      <td>0.540069</td>\n",
              "      <td>0.430092</td>\n",
              "    </tr>\n",
              "    <tr>\n",
              "      <th>615</th>\n",
              "      <td>1</td>\n",
              "      <td>0</td>\n",
              "      <td>0</td>\n",
              "      <td>0</td>\n",
              "      <td>0</td>\n",
              "      <td>0</td>\n",
              "      <td>1</td>\n",
              "      <td>0</td>\n",
              "      <td>0</td>\n",
              "      <td>0</td>\n",
              "      <td>1</td>\n",
              "      <td>0</td>\n",
              "      <td>1</td>\n",
              "      <td>0</td>\n",
              "      <td>0.747675</td>\n",
              "      <td>0.698389</td>\n",
              "      <td>0.821766</td>\n",
              "      <td>0.533349</td>\n",
              "    </tr>\n",
              "    <tr>\n",
              "      <th>713</th>\n",
              "      <td>1</td>\n",
              "      <td>0</td>\n",
              "      <td>0</td>\n",
              "      <td>0</td>\n",
              "      <td>0</td>\n",
              "      <td>0</td>\n",
              "      <td>0</td>\n",
              "      <td>0</td>\n",
              "      <td>0</td>\n",
              "      <td>0</td>\n",
              "      <td>0</td>\n",
              "      <td>1</td>\n",
              "      <td>0</td>\n",
              "      <td>0</td>\n",
              "      <td>0.330249</td>\n",
              "      <td>0.340384</td>\n",
              "      <td>0.668809</td>\n",
              "      <td>0.173084</td>\n",
              "    </tr>\n",
              "    <tr>\n",
              "      <th>139</th>\n",
              "      <td>0</td>\n",
              "      <td>0</td>\n",
              "      <td>0</td>\n",
              "      <td>1</td>\n",
              "      <td>0</td>\n",
              "      <td>0</td>\n",
              "      <td>0</td>\n",
              "      <td>0</td>\n",
              "      <td>0</td>\n",
              "      <td>1</td>\n",
              "      <td>0</td>\n",
              "      <td>0</td>\n",
              "      <td>0</td>\n",
              "      <td>0</td>\n",
              "      <td>0.595034</td>\n",
              "      <td>0.590650</td>\n",
              "      <td>0.739931</td>\n",
              "      <td>0.211559</td>\n",
              "    </tr>\n",
              "  </tbody>\n",
              "</table>\n",
              "</div>\n",
              "      <button class=\"colab-df-convert\" onclick=\"convertToInteractive('df-71892340-8804-4dc1-a901-bead680dda9d')\"\n",
              "              title=\"Convert this dataframe to an interactive table.\"\n",
              "              style=\"display:none;\">\n",
              "        \n",
              "  <svg xmlns=\"http://www.w3.org/2000/svg\" height=\"24px\"viewBox=\"0 0 24 24\"\n",
              "       width=\"24px\">\n",
              "    <path d=\"M0 0h24v24H0V0z\" fill=\"none\"/>\n",
              "    <path d=\"M18.56 5.44l.94 2.06.94-2.06 2.06-.94-2.06-.94-.94-2.06-.94 2.06-2.06.94zm-11 1L8.5 8.5l.94-2.06 2.06-.94-2.06-.94L8.5 2.5l-.94 2.06-2.06.94zm10 10l.94 2.06.94-2.06 2.06-.94-2.06-.94-.94-2.06-.94 2.06-2.06.94z\"/><path d=\"M17.41 7.96l-1.37-1.37c-.4-.4-.92-.59-1.43-.59-.52 0-1.04.2-1.43.59L10.3 9.45l-7.72 7.72c-.78.78-.78 2.05 0 2.83L4 21.41c.39.39.9.59 1.41.59.51 0 1.02-.2 1.41-.59l7.78-7.78 2.81-2.81c.8-.78.8-2.07 0-2.86zM5.41 20L4 18.59l7.72-7.72 1.47 1.35L5.41 20z\"/>\n",
              "  </svg>\n",
              "      </button>\n",
              "      \n",
              "  <style>\n",
              "    .colab-df-container {\n",
              "      display:flex;\n",
              "      flex-wrap:wrap;\n",
              "      gap: 12px;\n",
              "    }\n",
              "\n",
              "    .colab-df-convert {\n",
              "      background-color: #E8F0FE;\n",
              "      border: none;\n",
              "      border-radius: 50%;\n",
              "      cursor: pointer;\n",
              "      display: none;\n",
              "      fill: #1967D2;\n",
              "      height: 32px;\n",
              "      padding: 0 0 0 0;\n",
              "      width: 32px;\n",
              "    }\n",
              "\n",
              "    .colab-df-convert:hover {\n",
              "      background-color: #E2EBFA;\n",
              "      box-shadow: 0px 1px 2px rgba(60, 64, 67, 0.3), 0px 1px 3px 1px rgba(60, 64, 67, 0.15);\n",
              "      fill: #174EA6;\n",
              "    }\n",
              "\n",
              "    [theme=dark] .colab-df-convert {\n",
              "      background-color: #3B4455;\n",
              "      fill: #D2E3FC;\n",
              "    }\n",
              "\n",
              "    [theme=dark] .colab-df-convert:hover {\n",
              "      background-color: #434B5C;\n",
              "      box-shadow: 0px 1px 3px 1px rgba(0, 0, 0, 0.15);\n",
              "      filter: drop-shadow(0px 1px 2px rgba(0, 0, 0, 0.3));\n",
              "      fill: #FFFFFF;\n",
              "    }\n",
              "  </style>\n",
              "\n",
              "      <script>\n",
              "        const buttonEl =\n",
              "          document.querySelector('#df-71892340-8804-4dc1-a901-bead680dda9d button.colab-df-convert');\n",
              "        buttonEl.style.display =\n",
              "          google.colab.kernel.accessAllowed ? 'block' : 'none';\n",
              "\n",
              "        async function convertToInteractive(key) {\n",
              "          const element = document.querySelector('#df-71892340-8804-4dc1-a901-bead680dda9d');\n",
              "          const dataTable =\n",
              "            await google.colab.kernel.invokeFunction('convertToInteractive',\n",
              "                                                     [key], {});\n",
              "          if (!dataTable) return;\n",
              "\n",
              "          const docLinkHtml = 'Like what you see? Visit the ' +\n",
              "            '<a target=\"_blank\" href=https://colab.research.google.com/notebooks/data_table.ipynb>data table notebook</a>'\n",
              "            + ' to learn more about interactive tables.';\n",
              "          element.innerHTML = '';\n",
              "          dataTable['output_type'] = 'display_data';\n",
              "          await google.colab.output.renderOutput(dataTable, element);\n",
              "          const docLink = document.createElement('div');\n",
              "          docLink.innerHTML = docLinkHtml;\n",
              "          element.appendChild(docLink);\n",
              "        }\n",
              "      </script>\n",
              "    </div>\n",
              "  </div>\n",
              "  "
            ]
          },
          "metadata": {},
          "execution_count": 122
        }
      ]
    },
    {
      "cell_type": "code",
      "source": [
        "## also choose the columns for test data\n",
        "x_test_rfe = x_test[x_test.columns[rfe.support_]]"
      ],
      "metadata": {
        "id": "K1e9o_1LeWwy"
      },
      "execution_count": 123,
      "outputs": []
    },
    {
      "cell_type": "markdown",
      "source": [
        "> So we get 18 selected features with RFE. Now we will do Manual feature selection."
      ],
      "metadata": {
        "id": "KorvEUeypBuV"
      }
    },
    {
      "cell_type": "markdown",
      "source": [
        "**Manual selection**"
      ],
      "metadata": {
        "id": "YfvFjZOntc5D"
      }
    },
    {
      "cell_type": "markdown",
      "source": [
        "> For this I'll use the statmodels package's implementation of linear regressor, since it is easy to print summary statistics with statmodels."
      ],
      "metadata": {
        "id": "X-USYEAjtiD4"
      }
    },
    {
      "cell_type": "code",
      "source": [
        "### print summary statistics for linear regressor\n",
        "\n",
        "def fit_ols(x=x_train_rfe, y=y_train):\n",
        "    # add intercept\n",
        "    print(x.columns)\n",
        "    x_sm = sm.add_constant(x)\n",
        "\n",
        "    # fit ordinary least squares\n",
        "    lm = sm.OLS(y, x_sm).fit()\n",
        "\n",
        "    # print stats\n",
        "    print(lm.summary())\n",
        "    return lm"
      ],
      "metadata": {
        "id": "raM7iKsBsGmB"
      },
      "execution_count": 124,
      "outputs": []
    },
    {
      "cell_type": "markdown",
      "source": [
        "> Along with the stats from model\n",
        "\n",
        "> I will use **Variable Inflation Factor VIF** to check for *multicollinearity*.\n",
        "\n"
      ],
      "metadata": {
        "id": "sAJkCilivsw7"
      }
    },
    {
      "cell_type": "code",
      "source": [
        "### print vif\n",
        "\n",
        "def print_vif(df=x_train_rfe):\n",
        "  df_vif = pd.DataFrame()\n",
        "  df_vif['Features'] = df.columns\n",
        "  df_vif['VIF'] = [round(variance_inflation_factor(df.values, k), 2)\n",
        "                  for k in range(df.shape[1])]\n",
        "\n",
        "  print(df_vif.sort_values(by='VIF',ascending=False))"
      ],
      "metadata": {
        "id": "lf6NUM0-wMRt"
      },
      "execution_count": 125,
      "outputs": []
    },
    {
      "cell_type": "code",
      "source": [
        "def drop_cols(cols, df=x_train_rfe):\n",
        "  return df.drop(cols, axis=1)"
      ],
      "metadata": {
        "id": "Q_AK1m_Q0YgS"
      },
      "execution_count": 126,
      "outputs": []
    },
    {
      "cell_type": "markdown",
      "source": [
        "> Now we can start, we will train the ols model and then look at vif of columns to find the ones that may be removed."
      ],
      "metadata": {
        "id": "B45Q4ftmyQER"
      }
    },
    {
      "cell_type": "code",
      "source": [
        "fit_ols()\n",
        "print_vif()"
      ],
      "metadata": {
        "colab": {
          "base_uri": "https://localhost:8080/"
        },
        "id": "5F-i71t_zeZk",
        "outputId": "d09974c0-1dd4-48c8-aa98-24433c230955"
      },
      "execution_count": 127,
      "outputs": [
        {
          "output_type": "stream",
          "name": "stdout",
          "text": [
            "Index(['year_2019', 'month_March', 'month_April', 'month_May', 'month_June',\n",
            "       'month_August', 'month_September', 'month_October', 'holiday_1',\n",
            "       'season_s2', 'season_s3', 'season_s4', 'weather_w2', 'weather_w3',\n",
            "       'temp', 'atemp', 'humidity', 'windspeed'],\n",
            "      dtype='object')\n",
            "                            OLS Regression Results                            \n",
            "==============================================================================\n",
            "Dep. Variable:                  count   R-squared:                       0.830\n",
            "Model:                            OLS   Adj. R-squared:                  0.824\n",
            "Method:                 Least Squares   F-statistic:                     152.8\n",
            "Date:                Sun, 31 Jul 2022   Prob (F-statistic):          2.09e-203\n",
            "Time:                        16:01:41   Log-Likelihood:                 573.62\n",
            "No. Observations:                 584   AIC:                            -1109.\n",
            "Df Residuals:                     565   BIC:                            -1026.\n",
            "Df Model:                          18                                         \n",
            "Covariance Type:            nonrobust                                         \n",
            "===================================================================================\n",
            "                      coef    std err          t      P>|t|      [0.025      0.975]\n",
            "-----------------------------------------------------------------------------------\n",
            "const               0.2504      0.028      9.026      0.000       0.196       0.305\n",
            "year_2019           0.2325      0.008     29.931      0.000       0.217       0.248\n",
            "month_March         0.0659      0.018      3.716      0.000       0.031       0.101\n",
            "month_April         0.0399      0.025      1.579      0.115      -0.010       0.090\n",
            "month_May           0.0751      0.026      2.900      0.004       0.024       0.126\n",
            "month_June          0.0473      0.022      2.133      0.033       0.004       0.091\n",
            "month_August        0.0415      0.018      2.338      0.020       0.007       0.076\n",
            "month_September     0.1224      0.016      7.509      0.000       0.090       0.154\n",
            "month_October       0.0704      0.017      4.090      0.000       0.037       0.104\n",
            "holiday_1          -0.0789      0.022     -3.540      0.000      -0.123      -0.035\n",
            "season_s2           0.1071      0.022      4.790      0.000       0.063       0.151\n",
            "season_s3           0.0853      0.022      3.874      0.000       0.042       0.129\n",
            "season_s4           0.1574      0.014     11.340      0.000       0.130       0.185\n",
            "weather_w2         -0.0409      0.010     -3.958      0.000      -0.061      -0.021\n",
            "weather_w3         -0.2243      0.026     -8.700      0.000      -0.275      -0.174\n",
            "temp                0.3292      0.135      2.446      0.015       0.065       0.594\n",
            "atemp               0.0979      0.137      0.715      0.475      -0.171       0.367\n",
            "humidity           -0.1897      0.037     -5.088      0.000      -0.263      -0.116\n",
            "windspeed          -0.1785      0.026     -6.810      0.000      -0.230      -0.127\n",
            "==============================================================================\n",
            "Omnibus:                       88.463   Durbin-Watson:                   1.976\n",
            "Prob(Omnibus):                  0.000   Jarque-Bera (JB):              205.909\n",
            "Skew:                          -0.807   Prob(JB):                     1.94e-45\n",
            "Kurtosis:                       5.421   Cond. No.                         83.7\n",
            "==============================================================================\n",
            "\n",
            "Warnings:\n",
            "[1] Standard Errors assume that the covariance matrix of the errors is correctly specified.\n",
            "           Features     VIF\n",
            "14             temp  442.78\n",
            "15            atemp  414.74\n",
            "16         humidity   16.87\n",
            "9         season_s2    9.00\n",
            "10        season_s3    8.77\n",
            "17        windspeed    4.68\n",
            "3         month_May    4.01\n",
            "2       month_April    3.84\n",
            "11        season_s4    3.20\n",
            "4        month_June    2.84\n",
            "12       weather_w2    2.15\n",
            "0         year_2019    1.97\n",
            "5      month_August    1.78\n",
            "1       month_March    1.66\n",
            "7     month_October    1.59\n",
            "6   month_September    1.51\n",
            "13       weather_w3    1.21\n",
            "8         holiday_1    1.05\n"
          ]
        },
        {
          "output_type": "stream",
          "name": "stderr",
          "text": [
            "/usr/local/lib/python3.7/dist-packages/statsmodels/tsa/tsatools.py:117: FutureWarning: In a future version of pandas all arguments of concat except for the argument 'objs' will be keyword-only\n",
            "  x = pd.concat(x[::order], 1)\n"
          ]
        }
      ]
    },
    {
      "cell_type": "markdown",
      "source": [
        "> Temp and atemp are highly correlated, and so only one of them should be kept.\n",
        "> Atemp has hight P-value, so it is not significant to out model.\n",
        "\n",
        "> So we drop Atemp and repeat the process."
      ],
      "metadata": {
        "id": "ap_6L8Sxzngg"
      }
    },
    {
      "cell_type": "code",
      "source": [
        "x_new = drop_cols(['atemp'])\n",
        "fit_ols(x_new)\n",
        "print_vif(x_new)"
      ],
      "metadata": {
        "colab": {
          "base_uri": "https://localhost:8080/"
        },
        "id": "-xPvgdom2Qo5",
        "outputId": "c66311a5-d67d-4e70-9a69-9d89d43c3dab"
      },
      "execution_count": 128,
      "outputs": [
        {
          "output_type": "stream",
          "name": "stdout",
          "text": [
            "Index(['year_2019', 'month_March', 'month_April', 'month_May', 'month_June',\n",
            "       'month_August', 'month_September', 'month_October', 'holiday_1',\n",
            "       'season_s2', 'season_s3', 'season_s4', 'weather_w2', 'weather_w3',\n",
            "       'temp', 'humidity', 'windspeed'],\n",
            "      dtype='object')\n",
            "                            OLS Regression Results                            \n",
            "==============================================================================\n",
            "Dep. Variable:                  count   R-squared:                       0.829\n",
            "Model:                            OLS   Adj. R-squared:                  0.824\n",
            "Method:                 Least Squares   F-statistic:                     161.9\n",
            "Date:                Sun, 31 Jul 2022   Prob (F-statistic):          2.08e-204\n",
            "Time:                        16:01:41   Log-Likelihood:                 573.35\n",
            "No. Observations:                 584   AIC:                            -1111.\n",
            "Df Residuals:                     566   BIC:                            -1032.\n",
            "Df Model:                          17                                         \n",
            "Covariance Type:            nonrobust                                         \n",
            "===================================================================================\n",
            "                      coef    std err          t      P>|t|      [0.025      0.975]\n",
            "-----------------------------------------------------------------------------------\n",
            "const               0.2516      0.028      9.087      0.000       0.197       0.306\n",
            "year_2019           0.2324      0.008     29.936      0.000       0.217       0.248\n",
            "month_March         0.0665      0.018      3.754      0.000       0.032       0.101\n",
            "month_April         0.0410      0.025      1.627      0.104      -0.009       0.091\n",
            "month_May           0.0752      0.026      2.905      0.004       0.024       0.126\n",
            "month_June          0.0467      0.022      2.106      0.036       0.003       0.090\n",
            "month_August        0.0396      0.018      2.257      0.024       0.005       0.074\n",
            "month_September     0.1215      0.016      7.480      0.000       0.090       0.153\n",
            "month_October       0.0706      0.017      4.100      0.000       0.037       0.104\n",
            "holiday_1          -0.0798      0.022     -3.587      0.000      -0.124      -0.036\n",
            "season_s2           0.1068      0.022      4.780      0.000       0.063       0.151\n",
            "season_s3           0.0847      0.022      3.851      0.000       0.042       0.128\n",
            "season_s4           0.1579      0.014     11.402      0.000       0.131       0.185\n",
            "weather_w2         -0.0411      0.010     -3.982      0.000      -0.061      -0.021\n",
            "weather_w3         -0.2254      0.026     -8.766      0.000      -0.276      -0.175\n",
            "temp                0.4220      0.035     11.945      0.000       0.353       0.491\n",
            "humidity           -0.1885      0.037     -5.063      0.000      -0.262      -0.115\n",
            "windspeed          -0.1817      0.026     -7.042      0.000      -0.232      -0.131\n",
            "==============================================================================\n",
            "Omnibus:                       88.131   Durbin-Watson:                   1.970\n",
            "Prob(Omnibus):                  0.000   Jarque-Bera (JB):              204.503\n",
            "Skew:                          -0.805   Prob(JB):                     3.92e-45\n",
            "Kurtosis:                       5.411   Cond. No.                         20.0\n",
            "==============================================================================\n",
            "\n",
            "Warnings:\n",
            "[1] Standard Errors assume that the covariance matrix of the errors is correctly specified.\n"
          ]
        },
        {
          "output_type": "stream",
          "name": "stderr",
          "text": [
            "/usr/local/lib/python3.7/dist-packages/statsmodels/tsa/tsatools.py:117: FutureWarning: In a future version of pandas all arguments of concat except for the argument 'objs' will be keyword-only\n",
            "  x = pd.concat(x[::order], 1)\n"
          ]
        },
        {
          "output_type": "stream",
          "name": "stdout",
          "text": [
            "           Features    VIF\n",
            "14             temp  29.02\n",
            "15         humidity  16.52\n",
            "9         season_s2   9.00\n",
            "10        season_s3   8.76\n",
            "16        windspeed   4.55\n",
            "3         month_May   4.01\n",
            "2       month_April   3.82\n",
            "11        season_s4   3.19\n",
            "4        month_June   2.84\n",
            "12       weather_w2   2.15\n",
            "0         year_2019   1.97\n",
            "5      month_August   1.74\n",
            "1       month_March   1.65\n",
            "7     month_October   1.59\n",
            "6   month_September   1.50\n",
            "13       weather_w3   1.20\n",
            "8         holiday_1   1.05\n"
          ]
        }
      ]
    },
    {
      "cell_type": "markdown",
      "source": [
        "> The warnings shown are due to statmodels package only, but it works as expected so we can ignore them.\n"
      ],
      "metadata": {
        "id": "gyLVe-b95Scc"
      }
    },
    {
      "cell_type": "markdown",
      "source": [
        "> Removing month_April because of high p-value.\n",
        "\\\n",
        "> Also from vif chart, it looks like temp and humidity might be correlated."
      ],
      "metadata": {
        "id": "vyFxmqpP6V0H"
      }
    },
    {
      "cell_type": "code",
      "source": [
        "x_new = drop_cols(['month_April'], x_new)\n",
        "fit_ols(x_new)\n",
        "print_vif(x_new)"
      ],
      "metadata": {
        "colab": {
          "base_uri": "https://localhost:8080/"
        },
        "id": "SLtrzBxk6mHt",
        "outputId": "0861c018-11ad-4568-8a1d-a77209a283e7"
      },
      "execution_count": 129,
      "outputs": [
        {
          "output_type": "stream",
          "name": "stdout",
          "text": [
            "Index(['year_2019', 'month_March', 'month_May', 'month_June', 'month_August',\n",
            "       'month_September', 'month_October', 'holiday_1', 'season_s2',\n",
            "       'season_s3', 'season_s4', 'weather_w2', 'weather_w3', 'temp',\n",
            "       'humidity', 'windspeed'],\n",
            "      dtype='object')\n",
            "                            OLS Regression Results                            \n",
            "==============================================================================\n",
            "Dep. Variable:                  count   R-squared:                       0.829\n",
            "Model:                            OLS   Adj. R-squared:                  0.824\n",
            "Method:                 Least Squares   F-statistic:                     171.3\n",
            "Date:                Sun, 31 Jul 2022   Prob (F-statistic):          5.82e-205\n",
            "Time:                        16:01:41   Log-Likelihood:                 571.99\n",
            "No. Observations:                 584   AIC:                            -1110.\n",
            "Df Residuals:                     567   BIC:                            -1036.\n",
            "Df Model:                          16                                         \n",
            "Covariance Type:            nonrobust                                         \n",
            "===================================================================================\n",
            "                      coef    std err          t      P>|t|      [0.025      0.975]\n",
            "-----------------------------------------------------------------------------------\n",
            "const               0.2523      0.028      9.103      0.000       0.198       0.307\n",
            "year_2019           0.2324      0.008     29.890      0.000       0.217       0.248\n",
            "month_March         0.0531      0.016      3.381      0.001       0.022       0.084\n",
            "month_May           0.0450      0.018      2.489      0.013       0.009       0.081\n",
            "month_June          0.0240      0.017      1.392      0.165      -0.010       0.058\n",
            "month_August        0.0352      0.017      2.024      0.043       0.001       0.069\n",
            "month_September     0.1184      0.016      7.329      0.000       0.087       0.150\n",
            "month_October       0.0698      0.017      4.048      0.000       0.036       0.104\n",
            "holiday_1          -0.0809      0.022     -3.634      0.000      -0.125      -0.037\n",
            "season_s2           0.1334      0.015      8.765      0.000       0.104       0.163\n",
            "season_s3           0.0852      0.022      3.866      0.000       0.042       0.128\n",
            "season_s4           0.1558      0.014     11.283      0.000       0.129       0.183\n",
            "weather_w2         -0.0408      0.010     -3.945      0.000      -0.061      -0.020\n",
            "weather_w3         -0.2255      0.026     -8.754      0.000      -0.276      -0.175\n",
            "temp                0.4253      0.035     12.039      0.000       0.356       0.495\n",
            "humidity           -0.1901      0.037     -5.098      0.000      -0.263      -0.117\n",
            "windspeed          -0.1770      0.026     -6.894      0.000      -0.227      -0.127\n",
            "==============================================================================\n",
            "Omnibus:                       88.471   Durbin-Watson:                   1.985\n",
            "Prob(Omnibus):                  0.000   Jarque-Bera (JB):              204.581\n",
            "Skew:                          -0.809   Prob(JB):                     3.76e-45\n",
            "Kurtosis:                       5.406   Cond. No.                         20.0\n",
            "==============================================================================\n",
            "\n",
            "Warnings:\n",
            "[1] Standard Errors assume that the covariance matrix of the errors is correctly specified.\n",
            "           Features    VIF\n",
            "13             temp  28.91\n",
            "14         humidity  16.52\n",
            "9         season_s3   8.76\n",
            "15        windspeed   4.45\n",
            "8         season_s2   4.17\n",
            "10        season_s4   3.16\n",
            "11       weather_w2   2.15\n",
            "0         year_2019   1.97\n",
            "2         month_May   1.94\n",
            "3        month_June   1.72\n",
            "4      month_August   1.70\n",
            "6     month_October   1.59\n",
            "5   month_September   1.48\n",
            "1       month_March   1.30\n",
            "12       weather_w3   1.20\n",
            "7         holiday_1   1.05\n"
          ]
        },
        {
          "output_type": "stream",
          "name": "stderr",
          "text": [
            "/usr/local/lib/python3.7/dist-packages/statsmodels/tsa/tsatools.py:117: FutureWarning: In a future version of pandas all arguments of concat except for the argument 'objs' will be keyword-only\n",
            "  x = pd.concat(x[::order], 1)\n"
          ]
        }
      ]
    },
    {
      "cell_type": "markdown",
      "source": [
        "> Removing month_June because of high p-value."
      ],
      "metadata": {
        "id": "1Fu4juSq6v1x"
      }
    },
    {
      "cell_type": "code",
      "source": [
        "x_new = drop_cols(['month_June'], x_new)\n",
        "fit_ols(x_new)\n",
        "print_vif(x_new)"
      ],
      "metadata": {
        "colab": {
          "base_uri": "https://localhost:8080/"
        },
        "id": "rWh_axD9-kLP",
        "outputId": "3f6508b2-5aa1-4b08-c759-6141d1ffbe1f"
      },
      "execution_count": 130,
      "outputs": [
        {
          "output_type": "stream",
          "name": "stdout",
          "text": [
            "Index(['year_2019', 'month_March', 'month_May', 'month_August',\n",
            "       'month_September', 'month_October', 'holiday_1', 'season_s2',\n",
            "       'season_s3', 'season_s4', 'weather_w2', 'weather_w3', 'temp',\n",
            "       'humidity', 'windspeed'],\n",
            "      dtype='object')\n"
          ]
        },
        {
          "output_type": "stream",
          "name": "stderr",
          "text": [
            "/usr/local/lib/python3.7/dist-packages/statsmodels/tsa/tsatools.py:117: FutureWarning: In a future version of pandas all arguments of concat except for the argument 'objs' will be keyword-only\n",
            "  x = pd.concat(x[::order], 1)\n"
          ]
        },
        {
          "output_type": "stream",
          "name": "stdout",
          "text": [
            "                            OLS Regression Results                            \n",
            "==============================================================================\n",
            "Dep. Variable:                  count   R-squared:                       0.828\n",
            "Model:                            OLS   Adj. R-squared:                  0.823\n",
            "Method:                 Least Squares   F-statistic:                     182.3\n",
            "Date:                Sun, 31 Jul 2022   Prob (F-statistic):          1.11e-205\n",
            "Time:                        16:01:41   Log-Likelihood:                 570.99\n",
            "No. Observations:                 584   AIC:                            -1110.\n",
            "Df Residuals:                     568   BIC:                            -1040.\n",
            "Df Model:                          15                                         \n",
            "Covariance Type:            nonrobust                                         \n",
            "===================================================================================\n",
            "                      coef    std err          t      P>|t|      [0.025      0.975]\n",
            "-----------------------------------------------------------------------------------\n",
            "const               0.2519      0.028      9.079      0.000       0.197       0.306\n",
            "year_2019           0.2318      0.008     29.833      0.000       0.217       0.247\n",
            "month_March         0.0487      0.015      3.163      0.002       0.018       0.079\n",
            "month_May           0.0348      0.017      2.104      0.036       0.002       0.067\n",
            "month_August        0.0307      0.017      1.795      0.073      -0.003       0.064\n",
            "month_September     0.1156      0.016      7.207      0.000       0.084       0.147\n",
            "month_October       0.0673      0.017      3.922      0.000       0.034       0.101\n",
            "holiday_1          -0.0827      0.022     -3.717      0.000      -0.126      -0.039\n",
            "season_s2           0.1360      0.015      8.999      0.000       0.106       0.166\n",
            "season_s3           0.0792      0.022      3.662      0.000       0.037       0.122\n",
            "season_s4           0.1533      0.014     11.188      0.000       0.126       0.180\n",
            "weather_w2         -0.0399      0.010     -3.866      0.000      -0.060      -0.020\n",
            "weather_w3         -0.2248      0.026     -8.722      0.000      -0.275      -0.174\n",
            "temp                0.4442      0.033     13.603      0.000       0.380       0.508\n",
            "humidity           -0.1953      0.037     -5.260      0.000      -0.268      -0.122\n",
            "windspeed          -0.1799      0.026     -7.023      0.000      -0.230      -0.130\n",
            "==============================================================================\n",
            "Omnibus:                       86.023   Durbin-Watson:                   1.980\n",
            "Prob(Omnibus):                  0.000   Jarque-Bera (JB):              193.145\n",
            "Skew:                          -0.799   Prob(JB):                     1.15e-42\n",
            "Kurtosis:                       5.321   Cond. No.                         19.8\n",
            "==============================================================================\n",
            "\n",
            "Warnings:\n",
            "[1] Standard Errors assume that the covariance matrix of the errors is correctly specified.\n",
            "           Features    VIF\n",
            "12             temp  24.49\n",
            "13         humidity  16.01\n",
            "8         season_s3   8.42\n",
            "14        windspeed   4.40\n",
            "7         season_s2   4.10\n",
            "9         season_s4   3.11\n",
            "10       weather_w2   2.14\n",
            "0         year_2019   1.97\n",
            "3      month_August   1.64\n",
            "2         month_May   1.62\n",
            "5     month_October   1.57\n",
            "4   month_September   1.46\n",
            "1       month_March   1.24\n",
            "11       weather_w3   1.20\n",
            "6         holiday_1   1.05\n"
          ]
        }
      ]
    },
    {
      "cell_type": "markdown",
      "source": [
        "> Removing month_August because of high p-value.\\\n",
        "> We want **p_value < 0.05** (significance interval of 5%)"
      ],
      "metadata": {
        "id": "s9MChJoI-mxr"
      }
    },
    {
      "cell_type": "code",
      "source": [
        "x_new = drop_cols(['month_August'], x_new)\n",
        "fit_ols(x_new)\n",
        "print_vif(x_new)"
      ],
      "metadata": {
        "colab": {
          "base_uri": "https://localhost:8080/"
        },
        "id": "44HBmOxN-87n",
        "outputId": "d93fbc94-0268-4457-d2fd-026c00f5949e"
      },
      "execution_count": 131,
      "outputs": [
        {
          "output_type": "stream",
          "name": "stdout",
          "text": [
            "Index(['year_2019', 'month_March', 'month_May', 'month_September',\n",
            "       'month_October', 'holiday_1', 'season_s2', 'season_s3', 'season_s4',\n",
            "       'weather_w2', 'weather_w3', 'temp', 'humidity', 'windspeed'],\n",
            "      dtype='object')\n"
          ]
        },
        {
          "output_type": "stream",
          "name": "stderr",
          "text": [
            "/usr/local/lib/python3.7/dist-packages/statsmodels/tsa/tsatools.py:117: FutureWarning: In a future version of pandas all arguments of concat except for the argument 'objs' will be keyword-only\n",
            "  x = pd.concat(x[::order], 1)\n"
          ]
        },
        {
          "output_type": "stream",
          "name": "stdout",
          "text": [
            "                            OLS Regression Results                            \n",
            "==============================================================================\n",
            "Dep. Variable:                  count   R-squared:                       0.827\n",
            "Model:                            OLS   Adj. R-squared:                  0.823\n",
            "Method:                 Least Squares   F-statistic:                     194.4\n",
            "Date:                Sun, 31 Jul 2022   Prob (F-statistic):          3.86e-206\n",
            "Time:                        16:01:41   Log-Likelihood:                 569.34\n",
            "No. Observations:                 584   AIC:                            -1109.\n",
            "Df Residuals:                     569   BIC:                            -1043.\n",
            "Df Model:                          14                                         \n",
            "Covariance Type:            nonrobust                                         \n",
            "===================================================================================\n",
            "                      coef    std err          t      P>|t|      [0.025      0.975]\n",
            "-----------------------------------------------------------------------------------\n",
            "const               0.2490      0.028      8.973      0.000       0.195       0.304\n",
            "year_2019           0.2315      0.008     29.741      0.000       0.216       0.247\n",
            "month_March         0.0486      0.015      3.153      0.002       0.018       0.079\n",
            "month_May           0.0346      0.017      2.084      0.038       0.002       0.067\n",
            "month_September     0.1062      0.015      6.993      0.000       0.076       0.136\n",
            "month_October       0.0661      0.017      3.847      0.000       0.032       0.100\n",
            "holiday_1          -0.0846      0.022     -3.799      0.000      -0.128      -0.041\n",
            "season_s2           0.1362      0.015      8.989      0.000       0.106       0.166\n",
            "season_s3           0.0913      0.021      4.436      0.000       0.051       0.132\n",
            "season_s4           0.1545      0.014     11.266      0.000       0.128       0.181\n",
            "weather_w2         -0.0396      0.010     -3.834      0.000      -0.060      -0.019\n",
            "weather_w3         -0.2273      0.026     -8.816      0.000      -0.278      -0.177\n",
            "temp                0.4434      0.033     13.555      0.000       0.379       0.508\n",
            "humidity           -0.1912      0.037     -5.150      0.000      -0.264      -0.118\n",
            "windspeed          -0.1778      0.026     -6.934      0.000      -0.228      -0.127\n",
            "==============================================================================\n",
            "Omnibus:                       89.178   Durbin-Watson:                   1.995\n",
            "Prob(Omnibus):                  0.000   Jarque-Bera (JB):              198.900\n",
            "Skew:                          -0.828   Prob(JB):                     6.45e-44\n",
            "Kurtosis:                       5.331   Cond. No.                         19.7\n",
            "==============================================================================\n",
            "\n",
            "Warnings:\n",
            "[1] Standard Errors assume that the covariance matrix of the errors is correctly specified.\n",
            "           Features    VIF\n",
            "11             temp  24.47\n",
            "12         humidity  16.00\n",
            "7         season_s3   7.58\n",
            "13        windspeed   4.40\n",
            "6         season_s2   4.10\n",
            "8         season_s4   3.10\n",
            "9        weather_w2   2.13\n",
            "0         year_2019   1.96\n",
            "2         month_May   1.62\n",
            "4     month_October   1.57\n",
            "3   month_September   1.31\n",
            "1       month_March   1.24\n",
            "10       weather_w3   1.20\n",
            "5         holiday_1   1.04\n"
          ]
        }
      ]
    },
    {
      "cell_type": "markdown",
      "source": [
        "> From EDA we know temp has a linear relationship with count, so we will choose to remove Humidity because of hight p-vale.\\\n",
        "> Also from EDA Humidity did not have any clear relationship with count."
      ],
      "metadata": {
        "id": "uMUsvz3t_OTc"
      }
    },
    {
      "cell_type": "code",
      "source": [
        "x_new = drop_cols(['humidity'], x_new)\n",
        "fit_ols(x_new)\n",
        "print_vif(x_new)"
      ],
      "metadata": {
        "colab": {
          "base_uri": "https://localhost:8080/"
        },
        "id": "OO2wSdIbAa_L",
        "outputId": "f082a258-7272-4bdc-fd23-e6ef41495fbc"
      },
      "execution_count": 132,
      "outputs": [
        {
          "output_type": "stream",
          "name": "stdout",
          "text": [
            "Index(['year_2019', 'month_March', 'month_May', 'month_September',\n",
            "       'month_October', 'holiday_1', 'season_s2', 'season_s3', 'season_s4',\n",
            "       'weather_w2', 'weather_w3', 'temp', 'windspeed'],\n",
            "      dtype='object')\n",
            "                            OLS Regression Results                            \n",
            "==============================================================================\n",
            "Dep. Variable:                  count   R-squared:                       0.819\n",
            "Model:                            OLS   Adj. R-squared:                  0.815\n",
            "Method:                 Least Squares   F-statistic:                     198.4\n",
            "Date:                Sun, 31 Jul 2022   Prob (F-statistic):          1.08e-201\n",
            "Time:                        16:01:41   Log-Likelihood:                 556.04\n",
            "No. Observations:                 584   AIC:                            -1084.\n",
            "Df Residuals:                     570   BIC:                            -1023.\n",
            "Df Model:                          13                                         \n",
            "Covariance Type:            nonrobust                                         \n",
            "===================================================================================\n",
            "                      coef    std err          t      P>|t|      [0.025      0.975]\n",
            "-----------------------------------------------------------------------------------\n",
            "const               0.1372      0.018      7.770      0.000       0.102       0.172\n",
            "year_2019           0.2376      0.008     30.213      0.000       0.222       0.253\n",
            "month_March         0.0506      0.016      3.212      0.001       0.020       0.082\n",
            "month_May           0.0233      0.017      1.388      0.166      -0.010       0.056\n",
            "month_September     0.0931      0.015      6.085      0.000       0.063       0.123\n",
            "month_October       0.0641      0.018      3.655      0.000       0.030       0.099\n",
            "holiday_1          -0.0845      0.023     -3.712      0.000      -0.129      -0.040\n",
            "season_s2           0.1403      0.015      9.075      0.000       0.110       0.171\n",
            "season_s3           0.0974      0.021      4.640      0.000       0.056       0.139\n",
            "season_s4           0.1473      0.014     10.568      0.000       0.120       0.175\n",
            "weather_w2         -0.0713      0.009     -8.387      0.000      -0.088      -0.055\n",
            "weather_w3         -0.2838      0.024    -11.900      0.000      -0.331      -0.237\n",
            "temp                0.4171      0.033     12.630      0.000       0.352       0.482\n",
            "windspeed          -0.1404      0.025     -5.587      0.000      -0.190      -0.091\n",
            "==============================================================================\n",
            "Omnibus:                       81.556   Durbin-Watson:                   1.984\n",
            "Prob(Omnibus):                  0.000   Jarque-Bera (JB):              175.347\n",
            "Skew:                          -0.775   Prob(JB):                     8.39e-39\n",
            "Kurtosis:                       5.191   Cond. No.                         15.1\n",
            "==============================================================================\n",
            "\n",
            "Warnings:\n",
            "[1] Standard Errors assume that the covariance matrix of the errors is correctly specified."
          ]
        },
        {
          "output_type": "stream",
          "name": "stderr",
          "text": [
            "/usr/local/lib/python3.7/dist-packages/statsmodels/tsa/tsatools.py:117: FutureWarning: In a future version of pandas all arguments of concat except for the argument 'objs' will be keyword-only\n",
            "  x = pd.concat(x[::order], 1)\n"
          ]
        },
        {
          "output_type": "stream",
          "name": "stdout",
          "text": [
            "\n",
            "           Features    VIF\n",
            "11             temp  16.58\n",
            "7         season_s3   7.30\n",
            "6         season_s2   4.06\n",
            "12        windspeed   3.92\n",
            "8         season_s4   2.88\n",
            "0         year_2019   1.96\n",
            "2         month_May   1.61\n",
            "4     month_October   1.55\n",
            "9        weather_w2   1.45\n",
            "3   month_September   1.28\n",
            "1       month_March   1.24\n",
            "10       weather_w3   1.08\n",
            "5         holiday_1   1.04\n"
          ]
        }
      ]
    },
    {
      "cell_type": "markdown",
      "source": [
        "> Removing month_May because of high p-value"
      ],
      "metadata": {
        "id": "0MfEvkuZAqem"
      }
    },
    {
      "cell_type": "code",
      "source": [
        "x_new = drop_cols(['month_May'], x_new)\n",
        "fit_ols(x_new)\n",
        "print_vif(x_new)"
      ],
      "metadata": {
        "colab": {
          "base_uri": "https://localhost:8080/"
        },
        "id": "IDXEnX8sBCFW",
        "outputId": "2f83b45c-4825-4f4b-e098-f1fc7a921295"
      },
      "execution_count": 133,
      "outputs": [
        {
          "output_type": "stream",
          "name": "stdout",
          "text": [
            "Index(['year_2019', 'month_March', 'month_September', 'month_October',\n",
            "       'holiday_1', 'season_s2', 'season_s3', 'season_s4', 'weather_w2',\n",
            "       'weather_w3', 'temp', 'windspeed'],\n",
            "      dtype='object')\n",
            "                            OLS Regression Results                            \n",
            "==============================================================================\n",
            "Dep. Variable:                  count   R-squared:                       0.818\n",
            "Model:                            OLS   Adj. R-squared:                  0.815\n",
            "Method:                 Least Squares   F-statistic:                     214.4\n",
            "Date:                Sun, 31 Jul 2022   Prob (F-statistic):          1.87e-202\n",
            "Time:                        16:01:42   Log-Likelihood:                 555.06\n",
            "No. Observations:                 584   AIC:                            -1084.\n",
            "Df Residuals:                     571   BIC:                            -1027.\n",
            "Df Model:                          12                                         \n",
            "Covariance Type:            nonrobust                                         \n",
            "===================================================================================\n",
            "                      coef    std err          t      P>|t|      [0.025      0.975]\n",
            "-----------------------------------------------------------------------------------\n",
            "const               0.1365      0.018      7.728      0.000       0.102       0.171\n",
            "year_2019           0.2372      0.008     30.159      0.000       0.222       0.253\n",
            "month_March         0.0470      0.016      3.022      0.003       0.016       0.078\n",
            "month_September     0.0932      0.015      6.085      0.000       0.063       0.123\n",
            "month_October       0.0631      0.018      3.598      0.000       0.029       0.098\n",
            "holiday_1          -0.0844      0.023     -3.705      0.000      -0.129      -0.040\n",
            "season_s2           0.1450      0.015      9.614      0.000       0.115       0.175\n",
            "season_s3           0.0922      0.021      4.460      0.000       0.052       0.133\n",
            "season_s4           0.1454      0.014     10.473      0.000       0.118       0.173\n",
            "weather_w2         -0.0707      0.008     -8.324      0.000      -0.087      -0.054\n",
            "weather_w3         -0.2842      0.024    -11.905      0.000      -0.331      -0.237\n",
            "temp                0.4256      0.032     13.099      0.000       0.362       0.489\n",
            "windspeed          -0.1432      0.025     -5.712      0.000      -0.192      -0.094\n",
            "==============================================================================\n",
            "Omnibus:                       80.754   Durbin-Watson:                   1.979\n",
            "Prob(Omnibus):                  0.000   Jarque-Bera (JB):              169.588\n",
            "Skew:                          -0.777   Prob(JB):                     1.49e-37\n",
            "Kurtosis:                       5.134   Cond. No.                         14.8\n",
            "==============================================================================\n",
            "\n",
            "Warnings:\n",
            "[1] Standard Errors assume that the covariance matrix of the errors is correctly specified.\n",
            "           Features    VIF\n",
            "10             temp  15.87\n",
            "6         season_s3   7.07\n",
            "5         season_s2   3.86\n",
            "11        windspeed   3.86\n",
            "7         season_s4   2.85\n",
            "0         year_2019   1.96\n",
            "3     month_October   1.55\n",
            "8        weather_w2   1.44\n",
            "2   month_September   1.28\n",
            "1       month_March   1.20\n",
            "9        weather_w3   1.08\n",
            "4         holiday_1   1.04\n"
          ]
        },
        {
          "output_type": "stream",
          "name": "stderr",
          "text": [
            "/usr/local/lib/python3.7/dist-packages/statsmodels/tsa/tsatools.py:117: FutureWarning: In a future version of pandas all arguments of concat except for the argument 'objs' will be keyword-only\n",
            "  x = pd.concat(x[::order], 1)\n"
          ]
        }
      ]
    },
    {
      "cell_type": "markdown",
      "source": [
        "> season_s2 and season_s3 have high vif. These are the seasons 'summer' and 'fall', and from EDA we know that they have similar count values.\n",
        "> we will drop season_s3."
      ],
      "metadata": {
        "id": "Zi8h6KT6BGNC"
      }
    },
    {
      "cell_type": "markdown",
      "source": [
        "> Here I've defined a new column which is 1 if it's either Summer or Fall and 0 otherwise.\\\n",
        "> And I'll drop both season_s2 and season_s3 in favor of this column."
      ],
      "metadata": {
        "id": "CQU6WHVPQpEZ"
      }
    },
    {
      "cell_type": "code",
      "source": [
        "s = (x_new['season_s2'] == 1) | (x_new['season_s3'] == 1)\n",
        "x_new1 = x_new.copy()\n",
        "x_new1['s2_or_s3'] = s.astype('uint8')"
      ],
      "metadata": {
        "id": "UX_izCILL_zG"
      },
      "execution_count": 134,
      "outputs": []
    },
    {
      "cell_type": "code",
      "source": [
        "x_new1 = drop_cols(['season_s3', 'season_s2'], x_new1)\n",
        "fit_ols(x_new1)\n",
        "print_vif(x_new1)"
      ],
      "metadata": {
        "colab": {
          "base_uri": "https://localhost:8080/"
        },
        "id": "yT6fzrkQO8QT",
        "outputId": "3d32e266-bb23-49d2-ba11-78a748d600d3"
      },
      "execution_count": 135,
      "outputs": [
        {
          "output_type": "stream",
          "name": "stdout",
          "text": [
            "Index(['year_2019', 'month_March', 'month_September', 'month_October',\n",
            "       'holiday_1', 'season_s4', 'weather_w2', 'weather_w3', 'temp',\n",
            "       'windspeed', 's2_or_s3'],\n",
            "      dtype='object')\n",
            "                            OLS Regression Results                            \n",
            "==============================================================================\n",
            "Dep. Variable:                  count   R-squared:                       0.813\n",
            "Model:                            OLS   Adj. R-squared:                  0.810\n",
            "Method:                 Least Squares   F-statistic:                     226.7\n",
            "Date:                Sun, 31 Jul 2022   Prob (F-statistic):          2.64e-200\n",
            "Time:                        16:01:42   Log-Likelihood:                 547.17\n",
            "No. Observations:                 584   AIC:                            -1070.\n",
            "Df Residuals:                     572   BIC:                            -1018.\n",
            "Df Model:                          11                                         \n",
            "Covariance Type:            nonrobust                                         \n",
            "===================================================================================\n",
            "                      coef    std err          t      P>|t|      [0.025      0.975]\n",
            "-----------------------------------------------------------------------------------\n",
            "const               0.1505      0.018      8.593      0.000       0.116       0.185\n",
            "year_2019           0.2380      0.008     29.878      0.000       0.222       0.254\n",
            "month_March         0.0559      0.016      3.586      0.000       0.025       0.087\n",
            "month_September     0.0752      0.015      5.078      0.000       0.046       0.104\n",
            "month_October       0.0685      0.018      3.864      0.000       0.034       0.103\n",
            "holiday_1          -0.0845      0.023     -3.660      0.000      -0.130      -0.039\n",
            "season_s4           0.1572      0.014     11.451      0.000       0.130       0.184\n",
            "weather_w2         -0.0701      0.009     -8.146      0.000      -0.087      -0.053\n",
            "weather_w3         -0.2876      0.024    -11.906      0.000      -0.335      -0.240\n",
            "temp                0.3624      0.029     12.649      0.000       0.306       0.419\n",
            "windspeed          -0.1367      0.025     -5.394      0.000      -0.186      -0.087\n",
            "s2_or_s3            0.1482      0.015      9.712      0.000       0.118       0.178\n",
            "==============================================================================\n",
            "Omnibus:                       85.737   Durbin-Watson:                   1.969\n",
            "Prob(Omnibus):                  0.000   Jarque-Bera (JB):              184.555\n",
            "Skew:                          -0.811   Prob(JB):                     8.40e-41\n",
            "Kurtosis:                       5.226   Cond. No.                         12.8\n",
            "==============================================================================\n",
            "\n",
            "Warnings:\n",
            "[1] Standard Errors assume that the covariance matrix of the errors is correctly specified.\n",
            "           Features    VIF\n",
            "8              temp  12.33\n",
            "10         s2_or_s3   7.73\n",
            "9         windspeed   3.65\n",
            "5         season_s4   2.62\n",
            "0         year_2019   1.95\n",
            "3     month_October   1.54\n",
            "6        weather_w2   1.43\n",
            "2   month_September   1.17\n",
            "1       month_March   1.16\n",
            "7        weather_w3   1.08\n",
            "4         holiday_1   1.04\n"
          ]
        },
        {
          "output_type": "stream",
          "name": "stderr",
          "text": [
            "/usr/local/lib/python3.7/dist-packages/statsmodels/tsa/tsatools.py:117: FutureWarning: In a future version of pandas all arguments of concat except for the argument 'objs' will be keyword-only\n",
            "  x = pd.concat(x[::order], 1)\n"
          ]
        }
      ]
    },
    {
      "cell_type": "markdown",
      "source": [
        "> This suggests that there is hight correlation between Summer and Fall Temperature which is intuitive.\n",
        "> So I'll drop Summer or season_s3 column as that has higher correlation to temp."
      ],
      "metadata": {
        "id": "YHbkjZWTQ5R3"
      }
    },
    {
      "cell_type": "code",
      "source": [
        "x_new = drop_cols(['season_s3'], x_new)\n",
        "model = fit_ols(x_new)\n",
        "print_vif(x_new)"
      ],
      "metadata": {
        "colab": {
          "base_uri": "https://localhost:8080/"
        },
        "id": "tjgKwL8IC_DQ",
        "outputId": "f394378d-2287-49df-b9dc-7753368822d5"
      },
      "execution_count": 136,
      "outputs": [
        {
          "output_type": "stream",
          "name": "stdout",
          "text": [
            "Index(['year_2019', 'month_March', 'month_September', 'month_October',\n",
            "       'holiday_1', 'season_s2', 'season_s4', 'weather_w2', 'weather_w3',\n",
            "       'temp', 'windspeed'],\n",
            "      dtype='object')\n",
            "                            OLS Regression Results                            \n",
            "==============================================================================\n",
            "Dep. Variable:                  count   R-squared:                       0.812\n",
            "Model:                            OLS   Adj. R-squared:                  0.808\n",
            "Method:                 Least Squares   F-statistic:                     224.7\n",
            "Date:                Sun, 31 Jul 2022   Prob (F-statistic):          2.07e-199\n",
            "Time:                        16:01:42   Log-Likelihood:                 545.06\n",
            "No. Observations:                 584   AIC:                            -1066.\n",
            "Df Residuals:                     572   BIC:                            -1014.\n",
            "Df Model:                          11                                         \n",
            "Covariance Type:            nonrobust                                         \n",
            "===================================================================================\n",
            "                      coef    std err          t      P>|t|      [0.025      0.975]\n",
            "-----------------------------------------------------------------------------------\n",
            "const               0.1209      0.018      6.871      0.000       0.086       0.155\n",
            "year_2019           0.2357      0.008     29.507      0.000       0.220       0.251\n",
            "month_March         0.0340      0.016      2.188      0.029       0.003       0.065\n",
            "month_September     0.1080      0.015      7.108      0.000       0.078       0.138\n",
            "month_October       0.0509      0.018      2.888      0.004       0.016       0.085\n",
            "holiday_1          -0.0891      0.023     -3.852      0.000      -0.135      -0.044\n",
            "season_s2           0.0937      0.010      9.462      0.000       0.074       0.113\n",
            "season_s4           0.1133      0.012      9.391      0.000       0.090       0.137\n",
            "weather_w2         -0.0700      0.009     -8.101      0.000      -0.087      -0.053\n",
            "weather_w3         -0.2787      0.024    -11.502      0.000      -0.326      -0.231\n",
            "temp                0.5415      0.020     27.344      0.000       0.503       0.580\n",
            "windspeed          -0.1477      0.025     -5.802      0.000      -0.198      -0.098\n",
            "==============================================================================\n",
            "Omnibus:                       63.877   Durbin-Watson:                   1.967\n",
            "Prob(Omnibus):                  0.000   Jarque-Bera (JB):              118.837\n",
            "Skew:                          -0.670   Prob(JB):                     1.57e-26\n",
            "Kurtosis:                       4.757   Cond. No.                         10.8\n",
            "==============================================================================\n",
            "\n",
            "Warnings:\n",
            "[1] Standard Errors assume that the covariance matrix of the errors is correctly specified.\n",
            "           Features   VIF\n",
            "9              temp  3.99\n",
            "10        windspeed  3.71\n",
            "0         year_2019  1.94\n",
            "6         season_s4  1.81\n",
            "5         season_s2  1.61\n",
            "3     month_October  1.52\n",
            "7        weather_w2  1.44\n",
            "2   month_September  1.22\n",
            "1       month_March  1.14\n",
            "8        weather_w3  1.08\n",
            "4         holiday_1  1.04\n"
          ]
        },
        {
          "output_type": "stream",
          "name": "stderr",
          "text": [
            "/usr/local/lib/python3.7/dist-packages/statsmodels/tsa/tsatools.py:117: FutureWarning: In a future version of pandas all arguments of concat except for the argument 'objs' will be keyword-only\n",
            "  x = pd.concat(x[::order], 1)\n"
          ]
        }
      ]
    },
    {
      "cell_type": "markdown",
      "source": [
        "> All p-values < 0.05 and VIF < 5. The model seems to be good now.\\\n"
      ],
      "metadata": {
        "id": "gRm88QNMDVnm"
      }
    },
    {
      "cell_type": "markdown",
      "source": [
        "# Feature importance from linear regression"
      ],
      "metadata": {
        "id": "9r-0wW8tFJk4"
      }
    },
    {
      "cell_type": "code",
      "source": [
        "## extract model summary as dataframe\n",
        "summ1_df = pd.read_html(model.summary().tables[0].as_html(),header=0,index_col=0)[0]\n",
        "summ1_df\n",
        "\n"
      ],
      "metadata": {
        "colab": {
          "base_uri": "https://localhost:8080/",
          "height": 331
        },
        "id": "AsZ2j5vwS0SN",
        "outputId": "638ab3f9-371d-43df-8864-3078d29eba55"
      },
      "execution_count": 137,
      "outputs": [
        {
          "output_type": "execute_result",
          "data": {
            "text/plain": [
              "                              count           R-squared:          0.812\n",
              "Dep. Variable:                                                         \n",
              "Model:                          OLS      Adj. R-squared:   8.080000e-01\n",
              "Method:               Least Squares         F-statistic:   2.247000e+02\n",
              "Date:              Sun, 31 Jul 2022  Prob (F-statistic):  2.070000e-199\n",
              "Time:                      16:01:42      Log-Likelihood:   5.450600e+02\n",
              "No. Observations:               584                 AIC:  -1.066000e+03\n",
              "Df Residuals:                   572                 BIC:  -1.014000e+03\n",
              "Df Model:                        11                  NaN            NaN\n",
              "Covariance Type:          nonrobust                  NaN            NaN"
            ],
            "text/html": [
              "\n",
              "  <div id=\"df-afc0f2c3-84ee-40b2-ad22-2494f108fb29\">\n",
              "    <div class=\"colab-df-container\">\n",
              "      <div>\n",
              "<style scoped>\n",
              "    .dataframe tbody tr th:only-of-type {\n",
              "        vertical-align: middle;\n",
              "    }\n",
              "\n",
              "    .dataframe tbody tr th {\n",
              "        vertical-align: top;\n",
              "    }\n",
              "\n",
              "    .dataframe thead th {\n",
              "        text-align: right;\n",
              "    }\n",
              "</style>\n",
              "<table border=\"1\" class=\"dataframe\">\n",
              "  <thead>\n",
              "    <tr style=\"text-align: right;\">\n",
              "      <th></th>\n",
              "      <th>count</th>\n",
              "      <th>R-squared:</th>\n",
              "      <th>0.812</th>\n",
              "    </tr>\n",
              "    <tr>\n",
              "      <th>Dep. Variable:</th>\n",
              "      <th></th>\n",
              "      <th></th>\n",
              "      <th></th>\n",
              "    </tr>\n",
              "  </thead>\n",
              "  <tbody>\n",
              "    <tr>\n",
              "      <th>Model:</th>\n",
              "      <td>OLS</td>\n",
              "      <td>Adj. R-squared:</td>\n",
              "      <td>8.080000e-01</td>\n",
              "    </tr>\n",
              "    <tr>\n",
              "      <th>Method:</th>\n",
              "      <td>Least Squares</td>\n",
              "      <td>F-statistic:</td>\n",
              "      <td>2.247000e+02</td>\n",
              "    </tr>\n",
              "    <tr>\n",
              "      <th>Date:</th>\n",
              "      <td>Sun, 31 Jul 2022</td>\n",
              "      <td>Prob (F-statistic):</td>\n",
              "      <td>2.070000e-199</td>\n",
              "    </tr>\n",
              "    <tr>\n",
              "      <th>Time:</th>\n",
              "      <td>16:01:42</td>\n",
              "      <td>Log-Likelihood:</td>\n",
              "      <td>5.450600e+02</td>\n",
              "    </tr>\n",
              "    <tr>\n",
              "      <th>No. Observations:</th>\n",
              "      <td>584</td>\n",
              "      <td>AIC:</td>\n",
              "      <td>-1.066000e+03</td>\n",
              "    </tr>\n",
              "    <tr>\n",
              "      <th>Df Residuals:</th>\n",
              "      <td>572</td>\n",
              "      <td>BIC:</td>\n",
              "      <td>-1.014000e+03</td>\n",
              "    </tr>\n",
              "    <tr>\n",
              "      <th>Df Model:</th>\n",
              "      <td>11</td>\n",
              "      <td>NaN</td>\n",
              "      <td>NaN</td>\n",
              "    </tr>\n",
              "    <tr>\n",
              "      <th>Covariance Type:</th>\n",
              "      <td>nonrobust</td>\n",
              "      <td>NaN</td>\n",
              "      <td>NaN</td>\n",
              "    </tr>\n",
              "  </tbody>\n",
              "</table>\n",
              "</div>\n",
              "      <button class=\"colab-df-convert\" onclick=\"convertToInteractive('df-afc0f2c3-84ee-40b2-ad22-2494f108fb29')\"\n",
              "              title=\"Convert this dataframe to an interactive table.\"\n",
              "              style=\"display:none;\">\n",
              "        \n",
              "  <svg xmlns=\"http://www.w3.org/2000/svg\" height=\"24px\"viewBox=\"0 0 24 24\"\n",
              "       width=\"24px\">\n",
              "    <path d=\"M0 0h24v24H0V0z\" fill=\"none\"/>\n",
              "    <path d=\"M18.56 5.44l.94 2.06.94-2.06 2.06-.94-2.06-.94-.94-2.06-.94 2.06-2.06.94zm-11 1L8.5 8.5l.94-2.06 2.06-.94-2.06-.94L8.5 2.5l-.94 2.06-2.06.94zm10 10l.94 2.06.94-2.06 2.06-.94-2.06-.94-.94-2.06-.94 2.06-2.06.94z\"/><path d=\"M17.41 7.96l-1.37-1.37c-.4-.4-.92-.59-1.43-.59-.52 0-1.04.2-1.43.59L10.3 9.45l-7.72 7.72c-.78.78-.78 2.05 0 2.83L4 21.41c.39.39.9.59 1.41.59.51 0 1.02-.2 1.41-.59l7.78-7.78 2.81-2.81c.8-.78.8-2.07 0-2.86zM5.41 20L4 18.59l7.72-7.72 1.47 1.35L5.41 20z\"/>\n",
              "  </svg>\n",
              "      </button>\n",
              "      \n",
              "  <style>\n",
              "    .colab-df-container {\n",
              "      display:flex;\n",
              "      flex-wrap:wrap;\n",
              "      gap: 12px;\n",
              "    }\n",
              "\n",
              "    .colab-df-convert {\n",
              "      background-color: #E8F0FE;\n",
              "      border: none;\n",
              "      border-radius: 50%;\n",
              "      cursor: pointer;\n",
              "      display: none;\n",
              "      fill: #1967D2;\n",
              "      height: 32px;\n",
              "      padding: 0 0 0 0;\n",
              "      width: 32px;\n",
              "    }\n",
              "\n",
              "    .colab-df-convert:hover {\n",
              "      background-color: #E2EBFA;\n",
              "      box-shadow: 0px 1px 2px rgba(60, 64, 67, 0.3), 0px 1px 3px 1px rgba(60, 64, 67, 0.15);\n",
              "      fill: #174EA6;\n",
              "    }\n",
              "\n",
              "    [theme=dark] .colab-df-convert {\n",
              "      background-color: #3B4455;\n",
              "      fill: #D2E3FC;\n",
              "    }\n",
              "\n",
              "    [theme=dark] .colab-df-convert:hover {\n",
              "      background-color: #434B5C;\n",
              "      box-shadow: 0px 1px 3px 1px rgba(0, 0, 0, 0.15);\n",
              "      filter: drop-shadow(0px 1px 2px rgba(0, 0, 0, 0.3));\n",
              "      fill: #FFFFFF;\n",
              "    }\n",
              "  </style>\n",
              "\n",
              "      <script>\n",
              "        const buttonEl =\n",
              "          document.querySelector('#df-afc0f2c3-84ee-40b2-ad22-2494f108fb29 button.colab-df-convert');\n",
              "        buttonEl.style.display =\n",
              "          google.colab.kernel.accessAllowed ? 'block' : 'none';\n",
              "\n",
              "        async function convertToInteractive(key) {\n",
              "          const element = document.querySelector('#df-afc0f2c3-84ee-40b2-ad22-2494f108fb29');\n",
              "          const dataTable =\n",
              "            await google.colab.kernel.invokeFunction('convertToInteractive',\n",
              "                                                     [key], {});\n",
              "          if (!dataTable) return;\n",
              "\n",
              "          const docLinkHtml = 'Like what you see? Visit the ' +\n",
              "            '<a target=\"_blank\" href=https://colab.research.google.com/notebooks/data_table.ipynb>data table notebook</a>'\n",
              "            + ' to learn more about interactive tables.';\n",
              "          element.innerHTML = '';\n",
              "          dataTable['output_type'] = 'display_data';\n",
              "          await google.colab.output.renderOutput(dataTable, element);\n",
              "          const docLink = document.createElement('div');\n",
              "          docLink.innerHTML = docLinkHtml;\n",
              "          element.appendChild(docLink);\n",
              "        }\n",
              "      </script>\n",
              "    </div>\n",
              "  </div>\n",
              "  "
            ]
          },
          "metadata": {},
          "execution_count": 137
        }
      ]
    },
    {
      "cell_type": "code",
      "source": [
        "summ2_df = pd.read_html(model.summary().tables[1].as_html(),header=0,index_col=0)[0]\n",
        "summ2_df"
      ],
      "metadata": {
        "colab": {
          "base_uri": "https://localhost:8080/",
          "height": 425
        },
        "id": "0lEdQtKYVz_6",
        "outputId": "b87a5164-e333-426a-b1ed-218e5171ed00"
      },
      "execution_count": 138,
      "outputs": [
        {
          "output_type": "execute_result",
          "data": {
            "text/plain": [
              "                   coef  std err       t  P>|t|  [0.025  0.975]\n",
              "const            0.1209    0.018   6.871  0.000   0.086   0.155\n",
              "year_2019        0.2357    0.008  29.507  0.000   0.220   0.251\n",
              "month_March      0.0340    0.016   2.188  0.029   0.003   0.065\n",
              "month_September  0.1080    0.015   7.108  0.000   0.078   0.138\n",
              "month_October    0.0509    0.018   2.888  0.004   0.016   0.085\n",
              "holiday_1       -0.0891    0.023  -3.852  0.000  -0.135  -0.044\n",
              "season_s2        0.0937    0.010   9.462  0.000   0.074   0.113\n",
              "season_s4        0.1133    0.012   9.391  0.000   0.090   0.137\n",
              "weather_w2      -0.0700    0.009  -8.101  0.000  -0.087  -0.053\n",
              "weather_w3      -0.2787    0.024 -11.502  0.000  -0.326  -0.231\n",
              "temp             0.5415    0.020  27.344  0.000   0.503   0.580\n",
              "windspeed       -0.1477    0.025  -5.802  0.000  -0.198  -0.098"
            ],
            "text/html": [
              "\n",
              "  <div id=\"df-fef06598-d952-4ada-8cd2-08ae56db368b\">\n",
              "    <div class=\"colab-df-container\">\n",
              "      <div>\n",
              "<style scoped>\n",
              "    .dataframe tbody tr th:only-of-type {\n",
              "        vertical-align: middle;\n",
              "    }\n",
              "\n",
              "    .dataframe tbody tr th {\n",
              "        vertical-align: top;\n",
              "    }\n",
              "\n",
              "    .dataframe thead th {\n",
              "        text-align: right;\n",
              "    }\n",
              "</style>\n",
              "<table border=\"1\" class=\"dataframe\">\n",
              "  <thead>\n",
              "    <tr style=\"text-align: right;\">\n",
              "      <th></th>\n",
              "      <th>coef</th>\n",
              "      <th>std err</th>\n",
              "      <th>t</th>\n",
              "      <th>P&gt;|t|</th>\n",
              "      <th>[0.025</th>\n",
              "      <th>0.975]</th>\n",
              "    </tr>\n",
              "  </thead>\n",
              "  <tbody>\n",
              "    <tr>\n",
              "      <th>const</th>\n",
              "      <td>0.1209</td>\n",
              "      <td>0.018</td>\n",
              "      <td>6.871</td>\n",
              "      <td>0.000</td>\n",
              "      <td>0.086</td>\n",
              "      <td>0.155</td>\n",
              "    </tr>\n",
              "    <tr>\n",
              "      <th>year_2019</th>\n",
              "      <td>0.2357</td>\n",
              "      <td>0.008</td>\n",
              "      <td>29.507</td>\n",
              "      <td>0.000</td>\n",
              "      <td>0.220</td>\n",
              "      <td>0.251</td>\n",
              "    </tr>\n",
              "    <tr>\n",
              "      <th>month_March</th>\n",
              "      <td>0.0340</td>\n",
              "      <td>0.016</td>\n",
              "      <td>2.188</td>\n",
              "      <td>0.029</td>\n",
              "      <td>0.003</td>\n",
              "      <td>0.065</td>\n",
              "    </tr>\n",
              "    <tr>\n",
              "      <th>month_September</th>\n",
              "      <td>0.1080</td>\n",
              "      <td>0.015</td>\n",
              "      <td>7.108</td>\n",
              "      <td>0.000</td>\n",
              "      <td>0.078</td>\n",
              "      <td>0.138</td>\n",
              "    </tr>\n",
              "    <tr>\n",
              "      <th>month_October</th>\n",
              "      <td>0.0509</td>\n",
              "      <td>0.018</td>\n",
              "      <td>2.888</td>\n",
              "      <td>0.004</td>\n",
              "      <td>0.016</td>\n",
              "      <td>0.085</td>\n",
              "    </tr>\n",
              "    <tr>\n",
              "      <th>holiday_1</th>\n",
              "      <td>-0.0891</td>\n",
              "      <td>0.023</td>\n",
              "      <td>-3.852</td>\n",
              "      <td>0.000</td>\n",
              "      <td>-0.135</td>\n",
              "      <td>-0.044</td>\n",
              "    </tr>\n",
              "    <tr>\n",
              "      <th>season_s2</th>\n",
              "      <td>0.0937</td>\n",
              "      <td>0.010</td>\n",
              "      <td>9.462</td>\n",
              "      <td>0.000</td>\n",
              "      <td>0.074</td>\n",
              "      <td>0.113</td>\n",
              "    </tr>\n",
              "    <tr>\n",
              "      <th>season_s4</th>\n",
              "      <td>0.1133</td>\n",
              "      <td>0.012</td>\n",
              "      <td>9.391</td>\n",
              "      <td>0.000</td>\n",
              "      <td>0.090</td>\n",
              "      <td>0.137</td>\n",
              "    </tr>\n",
              "    <tr>\n",
              "      <th>weather_w2</th>\n",
              "      <td>-0.0700</td>\n",
              "      <td>0.009</td>\n",
              "      <td>-8.101</td>\n",
              "      <td>0.000</td>\n",
              "      <td>-0.087</td>\n",
              "      <td>-0.053</td>\n",
              "    </tr>\n",
              "    <tr>\n",
              "      <th>weather_w3</th>\n",
              "      <td>-0.2787</td>\n",
              "      <td>0.024</td>\n",
              "      <td>-11.502</td>\n",
              "      <td>0.000</td>\n",
              "      <td>-0.326</td>\n",
              "      <td>-0.231</td>\n",
              "    </tr>\n",
              "    <tr>\n",
              "      <th>temp</th>\n",
              "      <td>0.5415</td>\n",
              "      <td>0.020</td>\n",
              "      <td>27.344</td>\n",
              "      <td>0.000</td>\n",
              "      <td>0.503</td>\n",
              "      <td>0.580</td>\n",
              "    </tr>\n",
              "    <tr>\n",
              "      <th>windspeed</th>\n",
              "      <td>-0.1477</td>\n",
              "      <td>0.025</td>\n",
              "      <td>-5.802</td>\n",
              "      <td>0.000</td>\n",
              "      <td>-0.198</td>\n",
              "      <td>-0.098</td>\n",
              "    </tr>\n",
              "  </tbody>\n",
              "</table>\n",
              "</div>\n",
              "      <button class=\"colab-df-convert\" onclick=\"convertToInteractive('df-fef06598-d952-4ada-8cd2-08ae56db368b')\"\n",
              "              title=\"Convert this dataframe to an interactive table.\"\n",
              "              style=\"display:none;\">\n",
              "        \n",
              "  <svg xmlns=\"http://www.w3.org/2000/svg\" height=\"24px\"viewBox=\"0 0 24 24\"\n",
              "       width=\"24px\">\n",
              "    <path d=\"M0 0h24v24H0V0z\" fill=\"none\"/>\n",
              "    <path d=\"M18.56 5.44l.94 2.06.94-2.06 2.06-.94-2.06-.94-.94-2.06-.94 2.06-2.06.94zm-11 1L8.5 8.5l.94-2.06 2.06-.94-2.06-.94L8.5 2.5l-.94 2.06-2.06.94zm10 10l.94 2.06.94-2.06 2.06-.94-2.06-.94-.94-2.06-.94 2.06-2.06.94z\"/><path d=\"M17.41 7.96l-1.37-1.37c-.4-.4-.92-.59-1.43-.59-.52 0-1.04.2-1.43.59L10.3 9.45l-7.72 7.72c-.78.78-.78 2.05 0 2.83L4 21.41c.39.39.9.59 1.41.59.51 0 1.02-.2 1.41-.59l7.78-7.78 2.81-2.81c.8-.78.8-2.07 0-2.86zM5.41 20L4 18.59l7.72-7.72 1.47 1.35L5.41 20z\"/>\n",
              "  </svg>\n",
              "      </button>\n",
              "      \n",
              "  <style>\n",
              "    .colab-df-container {\n",
              "      display:flex;\n",
              "      flex-wrap:wrap;\n",
              "      gap: 12px;\n",
              "    }\n",
              "\n",
              "    .colab-df-convert {\n",
              "      background-color: #E8F0FE;\n",
              "      border: none;\n",
              "      border-radius: 50%;\n",
              "      cursor: pointer;\n",
              "      display: none;\n",
              "      fill: #1967D2;\n",
              "      height: 32px;\n",
              "      padding: 0 0 0 0;\n",
              "      width: 32px;\n",
              "    }\n",
              "\n",
              "    .colab-df-convert:hover {\n",
              "      background-color: #E2EBFA;\n",
              "      box-shadow: 0px 1px 2px rgba(60, 64, 67, 0.3), 0px 1px 3px 1px rgba(60, 64, 67, 0.15);\n",
              "      fill: #174EA6;\n",
              "    }\n",
              "\n",
              "    [theme=dark] .colab-df-convert {\n",
              "      background-color: #3B4455;\n",
              "      fill: #D2E3FC;\n",
              "    }\n",
              "\n",
              "    [theme=dark] .colab-df-convert:hover {\n",
              "      background-color: #434B5C;\n",
              "      box-shadow: 0px 1px 3px 1px rgba(0, 0, 0, 0.15);\n",
              "      filter: drop-shadow(0px 1px 2px rgba(0, 0, 0, 0.3));\n",
              "      fill: #FFFFFF;\n",
              "    }\n",
              "  </style>\n",
              "\n",
              "      <script>\n",
              "        const buttonEl =\n",
              "          document.querySelector('#df-fef06598-d952-4ada-8cd2-08ae56db368b button.colab-df-convert');\n",
              "        buttonEl.style.display =\n",
              "          google.colab.kernel.accessAllowed ? 'block' : 'none';\n",
              "\n",
              "        async function convertToInteractive(key) {\n",
              "          const element = document.querySelector('#df-fef06598-d952-4ada-8cd2-08ae56db368b');\n",
              "          const dataTable =\n",
              "            await google.colab.kernel.invokeFunction('convertToInteractive',\n",
              "                                                     [key], {});\n",
              "          if (!dataTable) return;\n",
              "\n",
              "          const docLinkHtml = 'Like what you see? Visit the ' +\n",
              "            '<a target=\"_blank\" href=https://colab.research.google.com/notebooks/data_table.ipynb>data table notebook</a>'\n",
              "            + ' to learn more about interactive tables.';\n",
              "          element.innerHTML = '';\n",
              "          dataTable['output_type'] = 'display_data';\n",
              "          await google.colab.output.renderOutput(dataTable, element);\n",
              "          const docLink = document.createElement('div');\n",
              "          docLink.innerHTML = docLinkHtml;\n",
              "          element.appendChild(docLink);\n",
              "        }\n",
              "      </script>\n",
              "    </div>\n",
              "  </div>\n",
              "  "
            ]
          },
          "metadata": {},
          "execution_count": 138
        }
      ]
    },
    {
      "cell_type": "markdown",
      "source": [
        "- I've obtained a decent model where VIF < 5 which means there is low collinearlity between the independent variables as should be the case.\n",
        "- The p-values of all features is significantly low (< 0.03) which suggests that all the features contribute significantly.\n",
        "- The F-statistic ~225 and p-value ~ 0 of the overall model.\n",
        "- R2 score and Adj R2 scores are not too far apart, which also suggests that all features are relevant."
      ],
      "metadata": {
        "id": "HTK96istSRUf"
      }
    },
    {
      "cell_type": "markdown",
      "source": [
        "**Ranked list of features**"
      ],
      "metadata": {
        "id": "vwVqn8h5TXEN"
      }
    },
    {
      "cell_type": "code",
      "source": [
        "rank_features = summ2_df[['coef']].abs().sort_values('coef', ascending=False).reset_index()\n",
        "rank_features = rank_features[rank_features['index'] != 'const']\n",
        "rank_features = rank_features.rename(columns={'index': 'features', 'coef': 'weights'}).reset_index().drop('index', axis=1)\n",
        "rank_features"
      ],
      "metadata": {
        "colab": {
          "base_uri": "https://localhost:8080/",
          "height": 394
        },
        "id": "RNj5I7C0VXYk",
        "outputId": "7fb3faed-6eb7-4125-cd6c-469db2c90f55"
      },
      "execution_count": 139,
      "outputs": [
        {
          "output_type": "execute_result",
          "data": {
            "text/plain": [
              "           features  weights\n",
              "0              temp   0.5415\n",
              "1        weather_w3   0.2787\n",
              "2         year_2019   0.2357\n",
              "3         windspeed   0.1477\n",
              "4         season_s4   0.1133\n",
              "5   month_September   0.1080\n",
              "6         season_s2   0.0937\n",
              "7         holiday_1   0.0891\n",
              "8        weather_w2   0.0700\n",
              "9     month_October   0.0509\n",
              "10      month_March   0.0340"
            ],
            "text/html": [
              "\n",
              "  <div id=\"df-7331f768-1774-4101-b1b8-65ea32ab5cd8\">\n",
              "    <div class=\"colab-df-container\">\n",
              "      <div>\n",
              "<style scoped>\n",
              "    .dataframe tbody tr th:only-of-type {\n",
              "        vertical-align: middle;\n",
              "    }\n",
              "\n",
              "    .dataframe tbody tr th {\n",
              "        vertical-align: top;\n",
              "    }\n",
              "\n",
              "    .dataframe thead th {\n",
              "        text-align: right;\n",
              "    }\n",
              "</style>\n",
              "<table border=\"1\" class=\"dataframe\">\n",
              "  <thead>\n",
              "    <tr style=\"text-align: right;\">\n",
              "      <th></th>\n",
              "      <th>features</th>\n",
              "      <th>weights</th>\n",
              "    </tr>\n",
              "  </thead>\n",
              "  <tbody>\n",
              "    <tr>\n",
              "      <th>0</th>\n",
              "      <td>temp</td>\n",
              "      <td>0.5415</td>\n",
              "    </tr>\n",
              "    <tr>\n",
              "      <th>1</th>\n",
              "      <td>weather_w3</td>\n",
              "      <td>0.2787</td>\n",
              "    </tr>\n",
              "    <tr>\n",
              "      <th>2</th>\n",
              "      <td>year_2019</td>\n",
              "      <td>0.2357</td>\n",
              "    </tr>\n",
              "    <tr>\n",
              "      <th>3</th>\n",
              "      <td>windspeed</td>\n",
              "      <td>0.1477</td>\n",
              "    </tr>\n",
              "    <tr>\n",
              "      <th>4</th>\n",
              "      <td>season_s4</td>\n",
              "      <td>0.1133</td>\n",
              "    </tr>\n",
              "    <tr>\n",
              "      <th>5</th>\n",
              "      <td>month_September</td>\n",
              "      <td>0.1080</td>\n",
              "    </tr>\n",
              "    <tr>\n",
              "      <th>6</th>\n",
              "      <td>season_s2</td>\n",
              "      <td>0.0937</td>\n",
              "    </tr>\n",
              "    <tr>\n",
              "      <th>7</th>\n",
              "      <td>holiday_1</td>\n",
              "      <td>0.0891</td>\n",
              "    </tr>\n",
              "    <tr>\n",
              "      <th>8</th>\n",
              "      <td>weather_w2</td>\n",
              "      <td>0.0700</td>\n",
              "    </tr>\n",
              "    <tr>\n",
              "      <th>9</th>\n",
              "      <td>month_October</td>\n",
              "      <td>0.0509</td>\n",
              "    </tr>\n",
              "    <tr>\n",
              "      <th>10</th>\n",
              "      <td>month_March</td>\n",
              "      <td>0.0340</td>\n",
              "    </tr>\n",
              "  </tbody>\n",
              "</table>\n",
              "</div>\n",
              "      <button class=\"colab-df-convert\" onclick=\"convertToInteractive('df-7331f768-1774-4101-b1b8-65ea32ab5cd8')\"\n",
              "              title=\"Convert this dataframe to an interactive table.\"\n",
              "              style=\"display:none;\">\n",
              "        \n",
              "  <svg xmlns=\"http://www.w3.org/2000/svg\" height=\"24px\"viewBox=\"0 0 24 24\"\n",
              "       width=\"24px\">\n",
              "    <path d=\"M0 0h24v24H0V0z\" fill=\"none\"/>\n",
              "    <path d=\"M18.56 5.44l.94 2.06.94-2.06 2.06-.94-2.06-.94-.94-2.06-.94 2.06-2.06.94zm-11 1L8.5 8.5l.94-2.06 2.06-.94-2.06-.94L8.5 2.5l-.94 2.06-2.06.94zm10 10l.94 2.06.94-2.06 2.06-.94-2.06-.94-.94-2.06-.94 2.06-2.06.94z\"/><path d=\"M17.41 7.96l-1.37-1.37c-.4-.4-.92-.59-1.43-.59-.52 0-1.04.2-1.43.59L10.3 9.45l-7.72 7.72c-.78.78-.78 2.05 0 2.83L4 21.41c.39.39.9.59 1.41.59.51 0 1.02-.2 1.41-.59l7.78-7.78 2.81-2.81c.8-.78.8-2.07 0-2.86zM5.41 20L4 18.59l7.72-7.72 1.47 1.35L5.41 20z\"/>\n",
              "  </svg>\n",
              "      </button>\n",
              "      \n",
              "  <style>\n",
              "    .colab-df-container {\n",
              "      display:flex;\n",
              "      flex-wrap:wrap;\n",
              "      gap: 12px;\n",
              "    }\n",
              "\n",
              "    .colab-df-convert {\n",
              "      background-color: #E8F0FE;\n",
              "      border: none;\n",
              "      border-radius: 50%;\n",
              "      cursor: pointer;\n",
              "      display: none;\n",
              "      fill: #1967D2;\n",
              "      height: 32px;\n",
              "      padding: 0 0 0 0;\n",
              "      width: 32px;\n",
              "    }\n",
              "\n",
              "    .colab-df-convert:hover {\n",
              "      background-color: #E2EBFA;\n",
              "      box-shadow: 0px 1px 2px rgba(60, 64, 67, 0.3), 0px 1px 3px 1px rgba(60, 64, 67, 0.15);\n",
              "      fill: #174EA6;\n",
              "    }\n",
              "\n",
              "    [theme=dark] .colab-df-convert {\n",
              "      background-color: #3B4455;\n",
              "      fill: #D2E3FC;\n",
              "    }\n",
              "\n",
              "    [theme=dark] .colab-df-convert:hover {\n",
              "      background-color: #434B5C;\n",
              "      box-shadow: 0px 1px 3px 1px rgba(0, 0, 0, 0.15);\n",
              "      filter: drop-shadow(0px 1px 2px rgba(0, 0, 0, 0.3));\n",
              "      fill: #FFFFFF;\n",
              "    }\n",
              "  </style>\n",
              "\n",
              "      <script>\n",
              "        const buttonEl =\n",
              "          document.querySelector('#df-7331f768-1774-4101-b1b8-65ea32ab5cd8 button.colab-df-convert');\n",
              "        buttonEl.style.display =\n",
              "          google.colab.kernel.accessAllowed ? 'block' : 'none';\n",
              "\n",
              "        async function convertToInteractive(key) {\n",
              "          const element = document.querySelector('#df-7331f768-1774-4101-b1b8-65ea32ab5cd8');\n",
              "          const dataTable =\n",
              "            await google.colab.kernel.invokeFunction('convertToInteractive',\n",
              "                                                     [key], {});\n",
              "          if (!dataTable) return;\n",
              "\n",
              "          const docLinkHtml = 'Like what you see? Visit the ' +\n",
              "            '<a target=\"_blank\" href=https://colab.research.google.com/notebooks/data_table.ipynb>data table notebook</a>'\n",
              "            + ' to learn more about interactive tables.';\n",
              "          element.innerHTML = '';\n",
              "          dataTable['output_type'] = 'display_data';\n",
              "          await google.colab.output.renderOutput(dataTable, element);\n",
              "          const docLink = document.createElement('div');\n",
              "          docLink.innerHTML = docLinkHtml;\n",
              "          element.appendChild(docLink);\n",
              "        }\n",
              "      </script>\n",
              "    </div>\n",
              "  </div>\n",
              "  "
            ]
          },
          "metadata": {},
          "execution_count": 139
        }
      ]
    },
    {
      "cell_type": "code",
      "source": [
        "x_train_new = x_train_rfe[rank_features['features']]\n",
        "x_test_new = x_test_rfe[rank_features['features']]"
      ],
      "metadata": {
        "id": "xRRc8pnFYbb9"
      },
      "execution_count": 140,
      "outputs": []
    },
    {
      "cell_type": "markdown",
      "source": [
        "# Model Evaluation"
      ],
      "metadata": {
        "id": "ockqHdQLbd1v"
      }
    },
    {
      "cell_type": "markdown",
      "source": [
        "> Now at last I'll train a model with Hyper-parameter tuning, with the selected columns. The final metric and predictions will be derived from this model"
      ],
      "metadata": {
        "id": "Od9veej6dTti"
      }
    },
    {
      "cell_type": "markdown",
      "source": [
        "> Hyper parameter tuning"
      ],
      "metadata": {
        "id": "WU0pNUw1isBa"
      }
    },
    {
      "cell_type": "code",
      "source": [
        "n_estimators = [int(x) for x in np.arange(100, 1000, 100)]\n",
        "max_depth = [int(x) for x in np.arange(10, 210, 10)] + [None]\n",
        "max_features = ['auto', 'sqrt']\n",
        "min_samples_split = [2, 5, 10]\n",
        "min_samples_leaf = [1, 2, 4]\n",
        "bootstrap = [True, False]\n",
        "\n",
        "rf_params= {'n_estimators': n_estimators,\n",
        "               'max_features': max_features,\n",
        "               'max_depth': max_depth,\n",
        "               'min_samples_split': min_samples_split,\n",
        "               'min_samples_leaf': min_samples_leaf,\n",
        "               'bootstrap': bootstrap}\n",
        "\n",
        "for x in rf_params:\n",
        "  print(x, rf_params[x])\n"
      ],
      "metadata": {
        "colab": {
          "base_uri": "https://localhost:8080/"
        },
        "id": "0JbTBRrsgw8w",
        "outputId": "85289d26-ef99-45ed-caaa-c0c38888f772"
      },
      "execution_count": 141,
      "outputs": [
        {
          "output_type": "stream",
          "name": "stdout",
          "text": [
            "n_estimators [100, 200, 300, 400, 500, 600, 700, 800, 900]\n",
            "max_features ['auto', 'sqrt']\n",
            "max_depth [10, 20, 30, 40, 50, 60, 70, 80, 90, 100, 110, 120, 130, 140, 150, 160, 170, 180, 190, 200, None]\n",
            "min_samples_split [2, 5, 10]\n",
            "min_samples_leaf [1, 2, 4]\n",
            "bootstrap [True, False]\n"
          ]
        }
      ]
    },
    {
      "cell_type": "code",
      "source": [
        "## random search\n",
        "\n",
        "rf = RandomForestRegressor()\n",
        "\n",
        "random_cv = RandomizedSearchCV(estimator = rf, param_distributions = rf_params,\n",
        "                               n_iter = 200, cv = 3, verbose=5, random_state=11,\n",
        "                               n_jobs = -1, scoring='r2')\n",
        "\n",
        "# Fit rf\n",
        "random_cv.fit(x_train_new, y_train)"
      ],
      "metadata": {
        "colab": {
          "base_uri": "https://localhost:8080/"
        },
        "id": "wC4ECI7Aj82P",
        "outputId": "06d499fa-73e0-46f7-c441-4d989ffc6141"
      },
      "execution_count": 147,
      "outputs": [
        {
          "output_type": "stream",
          "name": "stdout",
          "text": [
            "Fitting 3 folds for each of 200 candidates, totalling 600 fits\n"
          ]
        },
        {
          "output_type": "execute_result",
          "data": {
            "text/plain": [
              "RandomizedSearchCV(cv=3, estimator=RandomForestRegressor(), n_iter=200,\n",
              "                   n_jobs=-1,\n",
              "                   param_distributions={'bootstrap': [True, False],\n",
              "                                        'max_depth': [10, 20, 30, 40, 50, 60,\n",
              "                                                      70, 80, 90, 100, 110, 120,\n",
              "                                                      130, 140, 150, 160, 170,\n",
              "                                                      180, 190, 200, None],\n",
              "                                        'max_features': ['auto', 'sqrt'],\n",
              "                                        'min_samples_leaf': [1, 2, 4],\n",
              "                                        'min_samples_split': [2, 5, 10],\n",
              "                                        'n_estimators': [100, 200, 300, 400,\n",
              "                                                         500, 600, 700, 800,\n",
              "                                                         900]},\n",
              "                   random_state=11, scoring='r2', verbose=5)"
            ]
          },
          "metadata": {},
          "execution_count": 147
        }
      ]
    },
    {
      "cell_type": "code",
      "source": [
        "random_cv.best_params_\n"
      ],
      "metadata": {
        "colab": {
          "base_uri": "https://localhost:8080/"
        },
        "id": "1FKymLxKk29j",
        "outputId": "e9a47bf9-9533-4ee1-f3c4-269239674593"
      },
      "execution_count": 149,
      "outputs": [
        {
          "output_type": "execute_result",
          "data": {
            "text/plain": [
              "{'bootstrap': True,\n",
              " 'max_depth': 130,\n",
              " 'max_features': 'sqrt',\n",
              " 'min_samples_leaf': 1,\n",
              " 'min_samples_split': 5,\n",
              " 'n_estimators': 400}"
            ]
          },
          "metadata": {},
          "execution_count": 149
        }
      ]
    },
    {
      "cell_type": "code",
      "source": [
        "## save model for later use\n",
        "best_rf = random_cv.best_estimator_\n",
        "\n",
        "filename = './final_model.sav'\n",
        "with open(filename, 'wb') as f:\n",
        "  pickle.dump(best_rf, f)"
      ],
      "metadata": {
        "id": "w-wpMQ3wD6XF"
      },
      "execution_count": 154,
      "outputs": []
    },
    {
      "cell_type": "markdown",
      "source": [
        "**Save models**"
      ],
      "metadata": {
        "id": "4DlBoyB1D2Rd"
      }
    },
    {
      "cell_type": "code",
      "source": [
        "from google.colab import files\n",
        "files.download(filename)   ## only for download from colab"
      ],
      "metadata": {
        "id": "KsmqX7YnEzC8"
      },
      "execution_count": null,
      "outputs": []
    },
    {
      "cell_type": "markdown",
      "source": [
        "**Evaluation with R2 and adj. R2 metric**"
      ],
      "metadata": {
        "id": "vW1Dfj-XHlJH"
      }
    },
    {
      "cell_type": "code",
      "source": [
        "def evaluate(model, x_test, y_test):\n",
        "  pred = model.predict(x_test)\n",
        "  r2 = r2_score(y_test, pred)\n",
        "\n",
        "  n = x_test.shape[0]\n",
        "  p = x_test.shape[1]\n",
        "\n",
        "  adjusted_r2 = 1-(1-r2)*(n-1)/(n-p-1)\n",
        "\n",
        "  return r2, adjusted_r2\n"
      ],
      "metadata": {
        "id": "ljjtS8b6pFBc"
      },
      "execution_count": 156,
      "outputs": []
    },
    {
      "cell_type": "code",
      "source": [
        "## load model from github so don't have to train all the time\n",
        "import urllib.request\n",
        "\n",
        "final_model = pickle.load(urllib.request.urlopen(\n",
        "    'https://github.com/hitesh-pathak/DS_assessment/blob/main/final_model.sav?raw=true'))\n",
        "\n",
        "print(final_model)"
      ],
      "metadata": {
        "colab": {
          "base_uri": "https://localhost:8080/"
        },
        "id": "tKSbGB3VIcWS",
        "outputId": "4ef1d5c4-5f95-4867-e219-6e76c2b8819d"
      },
      "execution_count": 159,
      "outputs": [
        {
          "output_type": "stream",
          "name": "stdout",
          "text": [
            "RandomForestRegressor(max_depth=130, max_features='sqrt', min_samples_split=5,\n",
            "                      n_estimators=400)\n"
          ]
        }
      ]
    },
    {
      "cell_type": "code",
      "source": [
        "## base model for comparison\n",
        "\n",
        "base_model = RandomForestRegressor(n_estimators=10, random_state = 1)\n",
        "base_model.fit(x_train_new, y_train)\n",
        "r2, ar2 = evaluate(base_model, x_test_new, y_test)\n",
        "print(f'R2 score: {r2}')\n",
        "\n",
        "print(f'Adjusted R2 score: {ar2}')"
      ],
      "metadata": {
        "colab": {
          "base_uri": "https://localhost:8080/"
        },
        "id": "Tcf4cFk-s5ln",
        "outputId": "a1fc70c2-fa31-43ea-a226-12d9f83be689"
      },
      "execution_count": 160,
      "outputs": [
        {
          "output_type": "stream",
          "name": "stdout",
          "text": [
            "R2 score: 0.8652241710759572\n",
            "Adjusted R2 score: 0.8541604836269686\n"
          ]
        }
      ]
    },
    {
      "cell_type": "code",
      "source": [
        "### our model\n",
        "\n",
        "r2, ar2 = evaluate(final_model, x_test_new, y_test)\n",
        "print(f'R2 score: {r2}')\n",
        "print(f'Adjusted R2 score: {ar2}')"
      ],
      "metadata": {
        "colab": {
          "base_uri": "https://localhost:8080/"
        },
        "id": "6QwsB6sktgA5",
        "outputId": "eb1a76c4-6126-4492-f545-d432bce0ced5"
      },
      "execution_count": 161,
      "outputs": [
        {
          "output_type": "stream",
          "name": "stdout",
          "text": [
            "R2 score: 0.8841544808113475\n",
            "Adjusted R2 score: 0.874644774012279\n"
          ]
        }
      ]
    },
    {
      "cell_type": "markdown",
      "source": [
        "# Residue analysis"
      ],
      "metadata": {
        "id": "LdXVD_Ri_pXF"
      }
    },
    {
      "cell_type": "code",
      "source": [
        "y_pred = final_model.predict(x_test_new)\n",
        "sns.displot(x=y_test-y_pred, kind='kde', fill=True)"
      ],
      "metadata": {
        "colab": {
          "base_uri": "https://localhost:8080/",
          "height": 387
        },
        "id": "cwa9eko2B8VC",
        "outputId": "ec0ff6a4-9bf4-445c-dbaf-bb52ac80329c"
      },
      "execution_count": 164,
      "outputs": [
        {
          "output_type": "execute_result",
          "data": {
            "text/plain": [
              "<seaborn.axisgrid.FacetGrid at 0x7eff59296750>"
            ]
          },
          "metadata": {},
          "execution_count": 164
        },
        {
          "output_type": "display_data",
          "data": {
            "text/plain": [
              "<Figure size 360x360 with 1 Axes>"
            ],
            "image/png": "[encoded data removed]"
          },
          "metadata": {
            "needs_background": "light"
          }
        }
      ]
    },
    {
      "cell_type": "markdown",
      "source": [
        "> Residual are normally distributed with 0 mean, indicating there is no constant systematic error."
      ],
      "metadata": {
        "id": "20bpIC5cKNyd"
      }
    },
    {
      "cell_type": "code",
      "source": [
        "## dataframe with predictions and actual values\n",
        "\n",
        "result_df = pd.DataFrame({'predicted': y_pred, 'actual': y_test})\n",
        "result_df['abs_error'] = (result_df['actual'] - result_df['predicted']).abs()\n",
        "result_df.head()"
      ],
      "metadata": {
        "colab": {
          "base_uri": "https://localhost:8080/",
          "height": 206
        },
        "id": "ivC94VZ8K9qD",
        "outputId": "f5f127a2-8007-4e29-92ad-251365375474"
      },
      "execution_count": 173,
      "outputs": [
        {
          "output_type": "execute_result",
          "data": {
            "text/plain": [
              "     predicted    actual  abs_error\n",
              "248   0.296996  0.309250   0.012254\n",
              "298   0.490437  0.445467   0.044970\n",
              "159   0.495199  0.447883   0.047316\n",
              "660   0.840880  0.856420   0.015539\n",
              "511   0.781092  0.755752   0.025339"
            ],
            "text/html": [
              "\n",
              "  <div id=\"df-c72c1b35-3da4-43c6-91aa-27d84fec376a\">\n",
              "    <div class=\"colab-df-container\">\n",
              "      <div>\n",
              "<style scoped>\n",
              "    .dataframe tbody tr th:only-of-type {\n",
              "        vertical-align: middle;\n",
              "    }\n",
              "\n",
              "    .dataframe tbody tr th {\n",
              "        vertical-align: top;\n",
              "    }\n",
              "\n",
              "    .dataframe thead th {\n",
              "        text-align: right;\n",
              "    }\n",
              "</style>\n",
              "<table border=\"1\" class=\"dataframe\">\n",
              "  <thead>\n",
              "    <tr style=\"text-align: right;\">\n",
              "      <th></th>\n",
              "      <th>predicted</th>\n",
              "      <th>actual</th>\n",
              "      <th>abs_error</th>\n",
              "    </tr>\n",
              "  </thead>\n",
              "  <tbody>\n",
              "    <tr>\n",
              "      <th>248</th>\n",
              "      <td>0.296996</td>\n",
              "      <td>0.309250</td>\n",
              "      <td>0.012254</td>\n",
              "    </tr>\n",
              "    <tr>\n",
              "      <th>298</th>\n",
              "      <td>0.490437</td>\n",
              "      <td>0.445467</td>\n",
              "      <td>0.044970</td>\n",
              "    </tr>\n",
              "    <tr>\n",
              "      <th>159</th>\n",
              "      <td>0.495199</td>\n",
              "      <td>0.447883</td>\n",
              "      <td>0.047316</td>\n",
              "    </tr>\n",
              "    <tr>\n",
              "      <th>660</th>\n",
              "      <td>0.840880</td>\n",
              "      <td>0.856420</td>\n",
              "      <td>0.015539</td>\n",
              "    </tr>\n",
              "    <tr>\n",
              "      <th>511</th>\n",
              "      <td>0.781092</td>\n",
              "      <td>0.755752</td>\n",
              "      <td>0.025339</td>\n",
              "    </tr>\n",
              "  </tbody>\n",
              "</table>\n",
              "</div>\n",
              "      <button class=\"colab-df-convert\" onclick=\"convertToInteractive('df-c72c1b35-3da4-43c6-91aa-27d84fec376a')\"\n",
              "              title=\"Convert this dataframe to an interactive table.\"\n",
              "              style=\"display:none;\">\n",
              "        \n",
              "  <svg xmlns=\"http://www.w3.org/2000/svg\" height=\"24px\"viewBox=\"0 0 24 24\"\n",
              "       width=\"24px\">\n",
              "    <path d=\"M0 0h24v24H0V0z\" fill=\"none\"/>\n",
              "    <path d=\"M18.56 5.44l.94 2.06.94-2.06 2.06-.94-2.06-.94-.94-2.06-.94 2.06-2.06.94zm-11 1L8.5 8.5l.94-2.06 2.06-.94-2.06-.94L8.5 2.5l-.94 2.06-2.06.94zm10 10l.94 2.06.94-2.06 2.06-.94-2.06-.94-.94-2.06-.94 2.06-2.06.94z\"/><path d=\"M17.41 7.96l-1.37-1.37c-.4-.4-.92-.59-1.43-.59-.52 0-1.04.2-1.43.59L10.3 9.45l-7.72 7.72c-.78.78-.78 2.05 0 2.83L4 21.41c.39.39.9.59 1.41.59.51 0 1.02-.2 1.41-.59l7.78-7.78 2.81-2.81c.8-.78.8-2.07 0-2.86zM5.41 20L4 18.59l7.72-7.72 1.47 1.35L5.41 20z\"/>\n",
              "  </svg>\n",
              "      </button>\n",
              "      \n",
              "  <style>\n",
              "    .colab-df-container {\n",
              "      display:flex;\n",
              "      flex-wrap:wrap;\n",
              "      gap: 12px;\n",
              "    }\n",
              "\n",
              "    .colab-df-convert {\n",
              "      background-color: #E8F0FE;\n",
              "      border: none;\n",
              "      border-radius: 50%;\n",
              "      cursor: pointer;\n",
              "      display: none;\n",
              "      fill: #1967D2;\n",
              "      height: 32px;\n",
              "      padding: 0 0 0 0;\n",
              "      width: 32px;\n",
              "    }\n",
              "\n",
              "    .colab-df-convert:hover {\n",
              "      background-color: #E2EBFA;\n",
              "      box-shadow: 0px 1px 2px rgba(60, 64, 67, 0.3), 0px 1px 3px 1px rgba(60, 64, 67, 0.15);\n",
              "      fill: #174EA6;\n",
              "    }\n",
              "\n",
              "    [theme=dark] .colab-df-convert {\n",
              "      background-color: #3B4455;\n",
              "      fill: #D2E3FC;\n",
              "    }\n",
              "\n",
              "    [theme=dark] .colab-df-convert:hover {\n",
              "      background-color: #434B5C;\n",
              "      box-shadow: 0px 1px 3px 1px rgba(0, 0, 0, 0.15);\n",
              "      filter: drop-shadow(0px 1px 2px rgba(0, 0, 0, 0.3));\n",
              "      fill: #FFFFFF;\n",
              "    }\n",
              "  </style>\n",
              "\n",
              "      <script>\n",
              "        const buttonEl =\n",
              "          document.querySelector('#df-c72c1b35-3da4-43c6-91aa-27d84fec376a button.colab-df-convert');\n",
              "        buttonEl.style.display =\n",
              "          google.colab.kernel.accessAllowed ? 'block' : 'none';\n",
              "\n",
              "        async function convertToInteractive(key) {\n",
              "          const element = document.querySelector('#df-c72c1b35-3da4-43c6-91aa-27d84fec376a');\n",
              "          const dataTable =\n",
              "            await google.colab.kernel.invokeFunction('convertToInteractive',\n",
              "                                                     [key], {});\n",
              "          if (!dataTable) return;\n",
              "\n",
              "          const docLinkHtml = 'Like what you see? Visit the ' +\n",
              "            '<a target=\"_blank\" href=https://colab.research.google.com/notebooks/data_table.ipynb>data table notebook</a>'\n",
              "            + ' to learn more about interactive tables.';\n",
              "          element.innerHTML = '';\n",
              "          dataTable['output_type'] = 'display_data';\n",
              "          await google.colab.output.renderOutput(dataTable, element);\n",
              "          const docLink = document.createElement('div');\n",
              "          docLink.innerHTML = docLinkHtml;\n",
              "          element.appendChild(docLink);\n",
              "        }\n",
              "      </script>\n",
              "    </div>\n",
              "  </div>\n",
              "  "
            ]
          },
          "metadata": {},
          "execution_count": 173
        }
      ]
    },
    {
      "cell_type": "code",
      "source": [
        "sns.lmplot(data=result_df, x='actual',y = 'predicted', height=7, aspect=1)"
      ],
      "metadata": {
        "colab": {
          "base_uri": "https://localhost:8080/",
          "height": 531
        },
        "id": "foI5Yqd4LjE-",
        "outputId": "b8b2e7e4-7a2a-4c1c-8923-a2f740df3b50"
      },
      "execution_count": 176,
      "outputs": [
        {
          "output_type": "execute_result",
          "data": {
            "text/plain": [
              "<seaborn.axisgrid.FacetGrid at 0x7eff57112610>"
            ]
          },
          "metadata": {},
          "execution_count": 176
        },
        {
          "output_type": "display_data",
          "data": {
            "text/plain": [
              "<Figure size 504x504 with 1 Axes>"
            ],
            "image/png": "[encoded data removed]"
          },
          "metadata": {
            "needs_background": "light"
          }
        }
      ]
    },
    {
      "cell_type": "markdown",
      "source": [
        "> Predictions vary linearly as the actual values, there is a direct propotionality with positive slope."
      ],
      "metadata": {
        "id": "j-oOMkHqL4tC"
      }
    },
    {
      "cell_type": "code",
      "source": [
        "sns.relplot(data=result_df, x='predicted', y='abs_error')"
      ],
      "metadata": {
        "colab": {
          "base_uri": "https://localhost:8080/",
          "height": 387
        },
        "id": "7NCXFkvXMll5",
        "outputId": "393c9e56-7e33-48d9-9720-8dce75484a44"
      },
      "execution_count": 178,
      "outputs": [
        {
          "output_type": "execute_result",
          "data": {
            "text/plain": [
              "<seaborn.axisgrid.FacetGrid at 0x7eff5a2f1310>"
            ]
          },
          "metadata": {},
          "execution_count": 178
        },
        {
          "output_type": "display_data",
          "data": {
            "text/plain": [
              "<Figure size 360x360 with 1 Axes>"
            ],
            "image/png": "[encoded data removed]"
          },
          "metadata": {
            "needs_background": "light"
          }
        }
      ]
    },
    {
      "cell_type": "markdown",
      "source": [
        "> Residues do not depend on predicted values"
      ],
      "metadata": {
        "id": "limNGWAbM2Fb"
      }
    },
    {
      "cell_type": "markdown",
      "source": [
        "# Final feature importance form random forest model"
      ],
      "metadata": {
        "id": "vKzIInIFNx48"
      }
    },
    {
      "cell_type": "code",
      "source": [
        "importances = final_model.feature_importances_\n",
        "feature_importance = pd.DataFrame({'features':x_train_new.columns,\n",
        "                                  'importance':importances}).sort_values('importance',\n",
        "                                                                        ascending=False)\n",
        "feature_importance"
      ],
      "metadata": {
        "colab": {
          "base_uri": "https://localhost:8080/",
          "height": 394
        },
        "id": "hyu5bMAsOpm7",
        "outputId": "6b8a8af3-30a6-4f3f-86cd-8255e2b0a83c"
      },
      "execution_count": 184,
      "outputs": [
        {
          "output_type": "execute_result",
          "data": {
            "text/plain": [
              "           features  importance\n",
              "0              temp    0.446879\n",
              "2         year_2019    0.281152\n",
              "3         windspeed    0.102885\n",
              "1        weather_w3    0.044100\n",
              "4         season_s4    0.037112\n",
              "8        weather_w2    0.024291\n",
              "5   month_September    0.018348\n",
              "6         season_s2    0.017071\n",
              "10      month_March    0.010423\n",
              "9     month_October    0.009273\n",
              "7         holiday_1    0.008468"
            ],
            "text/html": [
              "\n",
              "  <div id=\"df-ddf1fa89-e643-4b4e-834d-0c3e42de5cd5\">\n",
              "    <div class=\"colab-df-container\">\n",
              "      <div>\n",
              "<style scoped>\n",
              "    .dataframe tbody tr th:only-of-type {\n",
              "        vertical-align: middle;\n",
              "    }\n",
              "\n",
              "    .dataframe tbody tr th {\n",
              "        vertical-align: top;\n",
              "    }\n",
              "\n",
              "    .dataframe thead th {\n",
              "        text-align: right;\n",
              "    }\n",
              "</style>\n",
              "<table border=\"1\" class=\"dataframe\">\n",
              "  <thead>\n",
              "    <tr style=\"text-align: right;\">\n",
              "      <th></th>\n",
              "      <th>features</th>\n",
              "      <th>importance</th>\n",
              "    </tr>\n",
              "  </thead>\n",
              "  <tbody>\n",
              "    <tr>\n",
              "      <th>0</th>\n",
              "      <td>temp</td>\n",
              "      <td>0.446879</td>\n",
              "    </tr>\n",
              "    <tr>\n",
              "      <th>2</th>\n",
              "      <td>year_2019</td>\n",
              "      <td>0.281152</td>\n",
              "    </tr>\n",
              "    <tr>\n",
              "      <th>3</th>\n",
              "      <td>windspeed</td>\n",
              "      <td>0.102885</td>\n",
              "    </tr>\n",
              "    <tr>\n",
              "      <th>1</th>\n",
              "      <td>weather_w3</td>\n",
              "      <td>0.044100</td>\n",
              "    </tr>\n",
              "    <tr>\n",
              "      <th>4</th>\n",
              "      <td>season_s4</td>\n",
              "      <td>0.037112</td>\n",
              "    </tr>\n",
              "    <tr>\n",
              "      <th>8</th>\n",
              "      <td>weather_w2</td>\n",
              "      <td>0.024291</td>\n",
              "    </tr>\n",
              "    <tr>\n",
              "      <th>5</th>\n",
              "      <td>month_September</td>\n",
              "      <td>0.018348</td>\n",
              "    </tr>\n",
              "    <tr>\n",
              "      <th>6</th>\n",
              "      <td>season_s2</td>\n",
              "      <td>0.017071</td>\n",
              "    </tr>\n",
              "    <tr>\n",
              "      <th>10</th>\n",
              "      <td>month_March</td>\n",
              "      <td>0.010423</td>\n",
              "    </tr>\n",
              "    <tr>\n",
              "      <th>9</th>\n",
              "      <td>month_October</td>\n",
              "      <td>0.009273</td>\n",
              "    </tr>\n",
              "    <tr>\n",
              "      <th>7</th>\n",
              "      <td>holiday_1</td>\n",
              "      <td>0.008468</td>\n",
              "    </tr>\n",
              "  </tbody>\n",
              "</table>\n",
              "</div>\n",
              "      <button class=\"colab-df-convert\" onclick=\"convertToInteractive('df-ddf1fa89-e643-4b4e-834d-0c3e42de5cd5')\"\n",
              "              title=\"Convert this dataframe to an interactive table.\"\n",
              "              style=\"display:none;\">\n",
              "        \n",
              "  <svg xmlns=\"http://www.w3.org/2000/svg\" height=\"24px\"viewBox=\"0 0 24 24\"\n",
              "       width=\"24px\">\n",
              "    <path d=\"M0 0h24v24H0V0z\" fill=\"none\"/>\n",
              "    <path d=\"M18.56 5.44l.94 2.06.94-2.06 2.06-.94-2.06-.94-.94-2.06-.94 2.06-2.06.94zm-11 1L8.5 8.5l.94-2.06 2.06-.94-2.06-.94L8.5 2.5l-.94 2.06-2.06.94zm10 10l.94 2.06.94-2.06 2.06-.94-2.06-.94-.94-2.06-.94 2.06-2.06.94z\"/><path d=\"M17.41 7.96l-1.37-1.37c-.4-.4-.92-.59-1.43-.59-.52 0-1.04.2-1.43.59L10.3 9.45l-7.72 7.72c-.78.78-.78 2.05 0 2.83L4 21.41c.39.39.9.59 1.41.59.51 0 1.02-.2 1.41-.59l7.78-7.78 2.81-2.81c.8-.78.8-2.07 0-2.86zM5.41 20L4 18.59l7.72-7.72 1.47 1.35L5.41 20z\"/>\n",
              "  </svg>\n",
              "      </button>\n",
              "      \n",
              "  <style>\n",
              "    .colab-df-container {\n",
              "      display:flex;\n",
              "      flex-wrap:wrap;\n",
              "      gap: 12px;\n",
              "    }\n",
              "\n",
              "    .colab-df-convert {\n",
              "      background-color: #E8F0FE;\n",
              "      border: none;\n",
              "      border-radius: 50%;\n",
              "      cursor: pointer;\n",
              "      display: none;\n",
              "      fill: #1967D2;\n",
              "      height: 32px;\n",
              "      padding: 0 0 0 0;\n",
              "      width: 32px;\n",
              "    }\n",
              "\n",
              "    .colab-df-convert:hover {\n",
              "      background-color: #E2EBFA;\n",
              "      box-shadow: 0px 1px 2px rgba(60, 64, 67, 0.3), 0px 1px 3px 1px rgba(60, 64, 67, 0.15);\n",
              "      fill: #174EA6;\n",
              "    }\n",
              "\n",
              "    [theme=dark] .colab-df-convert {\n",
              "      background-color: #3B4455;\n",
              "      fill: #D2E3FC;\n",
              "    }\n",
              "\n",
              "    [theme=dark] .colab-df-convert:hover {\n",
              "      background-color: #434B5C;\n",
              "      box-shadow: 0px 1px 3px 1px rgba(0, 0, 0, 0.15);\n",
              "      filter: drop-shadow(0px 1px 2px rgba(0, 0, 0, 0.3));\n",
              "      fill: #FFFFFF;\n",
              "    }\n",
              "  </style>\n",
              "\n",
              "      <script>\n",
              "        const buttonEl =\n",
              "          document.querySelector('#df-ddf1fa89-e643-4b4e-834d-0c3e42de5cd5 button.colab-df-convert');\n",
              "        buttonEl.style.display =\n",
              "          google.colab.kernel.accessAllowed ? 'block' : 'none';\n",
              "\n",
              "        async function convertToInteractive(key) {\n",
              "          const element = document.querySelector('#df-ddf1fa89-e643-4b4e-834d-0c3e42de5cd5');\n",
              "          const dataTable =\n",
              "            await google.colab.kernel.invokeFunction('convertToInteractive',\n",
              "                                                     [key], {});\n",
              "          if (!dataTable) return;\n",
              "\n",
              "          const docLinkHtml = 'Like what you see? Visit the ' +\n",
              "            '<a target=\"_blank\" href=https://colab.research.google.com/notebooks/data_table.ipynb>data table notebook</a>'\n",
              "            + ' to learn more about interactive tables.';\n",
              "          element.innerHTML = '';\n",
              "          dataTable['output_type'] = 'display_data';\n",
              "          await google.colab.output.renderOutput(dataTable, element);\n",
              "          const docLink = document.createElement('div');\n",
              "          docLink.innerHTML = docLinkHtml;\n",
              "          element.appendChild(docLink);\n",
              "        }\n",
              "      </script>\n",
              "    </div>\n",
              "  </div>\n",
              "  "
            ]
          },
          "metadata": {},
          "execution_count": 184
        }
      ]
    },
    {
      "cell_type": "markdown",
      "source": [
        "# Result"
      ],
      "metadata": {
        "id": "A2rOvZXQPj9b"
      }
    },
    {
      "cell_type": "markdown",
      "source": [
        "**Metrics**"
      ],
      "metadata": {
        "id": "e1O0eXeRQA0R"
      }
    },
    {
      "cell_type": "code",
      "source": [
        "mean_squared_error(y_test, y_pred, squared=False) ## rmse"
      ],
      "metadata": {
        "colab": {
          "base_uri": "https://localhost:8080/"
        },
        "id": "LfImAGXmRl3m",
        "outputId": "1a05105a-ef4e-47b5-edd4-335a5a1cadf9"
      },
      "execution_count": 183,
      "outputs": [
        {
          "output_type": "execute_result",
          "data": {
            "text/plain": [
              "0.07951848166585603"
            ]
          },
          "metadata": {},
          "execution_count": 183
        }
      ]
    },
    {
      "cell_type": "markdown",
      "source": [
        "**R2 metric or coefficient of determination**: 0.884\\\n",
        "**Adjusted R2 score**: 0.875\\\n",
        "**RMSE**: 0.079 (~ 8%)"
      ],
      "metadata": {
        "id": "0f9I53wXRCa1"
      }
    },
    {
      "cell_type": "markdown",
      "source": [
        "**NOTE**: We can either talk about bike-demand at current time (over a short span of months maybe) or bike-demand over a span of years"
      ],
      "metadata": {
        "id": "0MBuXgAabBzG"
      }
    },
    {
      "cell_type": "markdown",
      "source": [
        "**Top 3 variables**: considering bike demand over a **short span of time**, *Current Demand* ->\n",
        "- I'll list these first as these are the ones people would be most interested in\n",
        "\n",
        "1.  **temp**: Temprature, demand increases as the environment is warmer.\n",
        "2. **windspeed**: Negative linear relationsip with demand, as the windspeed increases demand goes down\n",
        "3. **weather_w3**: In Rainy weather the demand drops drastically.\n"
      ],
      "metadata": {
        "id": "a4AZslK5bvIZ"
      }
    },
    {
      "cell_type": "markdown",
      "source": [
        "**Top 3 variables**: considering bike demand over a **span of years**, *Overall demand* ->\n",
        "\n",
        "1. **temp**: Temprature demand increases as the environment is warmer.\n",
        "2. **year_2019**: This represents that the demand is increasing with time.\n",
        "3. **windspeed**: Negative linear relationsip with demand, as the windspeed increases demand goes down\n",
        "\n"
      ],
      "metadata": {
        "id": "_yyQdOe9SKys"
      }
    },
    {
      "cell_type": "markdown",
      "source": [
        "**Other impactful variables ranked by decreasing importance**:\n",
        "5. season_4: Is the currentseason is winter demand goes down during winter.\n",
        "6. weather_2: Is the weather sligtly cloudy?\n",
        "7. month_September: Demand increases around september.\n",
        "8. season_s2: Is this summer season? Demand increases in summers.\n",
        "9. month_March: Demand is low around March\n",
        "10. month_October: After October demand decreaes too.\n",
        "11. holiday: Demand is high on non-holidays."
      ],
      "metadata": {
        "id": "6dIQGVDcTrov"
      }
    },
    {
      "cell_type": "code",
      "source": [
        ""
      ],
      "metadata": {
        "id": "9bILqSuYUQXI"
      },
      "execution_count": null,
      "outputs": []
    }
  ]
}